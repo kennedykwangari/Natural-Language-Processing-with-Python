{
 "cells": [
  {
   "cell_type": "code",
   "execution_count": 4,
   "metadata": {},
   "outputs": [],
   "source": [
    "#Import Packages\n",
    "\n",
    "from sklearn.feature_extraction.text import CountVectorizer\n",
    "import numpy as np\n",
    "import pandas as pd\n",
    "import re\n",
    "import matplotlib.pyplot as plt\n",
    "import warnings\n",
    "import nltk\n",
    "from nltk.tokenize import word_tokenize\n",
    "import string\n",
    "import seaborn as sns\n",
    "from nltk.stem.porter import * \n",
    "from wordcloud import WordCloud\n",
    "\n",
    "warnings.filterwarnings('ignore')\n",
    "%matplotlib inline"
   ]
  },
  {
   "cell_type": "code",
   "execution_count": 7,
   "metadata": {},
   "outputs": [],
   "source": [
    "from nltk.corpus import stopwords\n",
    "from textblob import TextBlob\n",
    "import numpy as np"
   ]
  },
  {
   "cell_type": "code",
   "execution_count": 8,
   "metadata": {},
   "outputs": [],
   "source": [
    "from sklearn.feature_extraction.text import TfidfVectorizer\n",
    "from nltk.tokenize import word_tokenize # import word_tokenize\n",
    "\n",
    "from nltk.corpus import stopwords #import stop words\n",
    "import re # import regular expression\n",
    "from nltk.tokenize import word_tokenize # import word_tokenize\n",
    "from sklearn.utils import shuffle # to shuffle the data\n",
    "import random # import random\n",
    "import sklearn # import sklearn\n",
    "from bs4 import BeautifulSoup\n",
    "from nltk.tokenize import WordPunctTokenizer\n",
    "\n",
    "from nltk.corpus import stopwords\n",
    "from nltk.classify import SklearnClassifier\n",
    "\n",
    "from wordcloud import WordCloud,STOPWORDS"
   ]
  },
  {
   "cell_type": "code",
   "execution_count": 9,
   "metadata": {},
   "outputs": [],
   "source": [
    "# Scikit-learn\n",
    "from sklearn.model_selection import train_test_split\n",
    "from sklearn.preprocessing import LabelEncoder\n",
    "from sklearn.metrics import confusion_matrix, classification_report, accuracy_score\n",
    "from sklearn.manifold import TSNE\n",
    "from sklearn.feature_extraction.text import TfidfVectorizer"
   ]
  },
  {
   "cell_type": "code",
   "execution_count": 10,
   "metadata": {},
   "outputs": [
    {
     "data": {
      "text/html": [
       "<div>\n",
       "<style scoped>\n",
       "    .dataframe tbody tr th:only-of-type {\n",
       "        vertical-align: middle;\n",
       "    }\n",
       "\n",
       "    .dataframe tbody tr th {\n",
       "        vertical-align: top;\n",
       "    }\n",
       "\n",
       "    .dataframe thead th {\n",
       "        text-align: right;\n",
       "    }\n",
       "</style>\n",
       "<table border=\"1\" class=\"dataframe\">\n",
       "  <thead>\n",
       "    <tr style=\"text-align: right;\">\n",
       "      <th></th>\n",
       "      <th>0</th>\n",
       "      <th>1</th>\n",
       "      <th>2</th>\n",
       "      <th>3</th>\n",
       "      <th>4</th>\n",
       "      <th>5</th>\n",
       "      <th>6</th>\n",
       "      <th>7</th>\n",
       "    </tr>\n",
       "  </thead>\n",
       "  <tbody>\n",
       "    <tr>\n",
       "      <th>0</th>\n",
       "      <td>2019-10-25 14:53:25</td>\n",
       "      <td>RT @JerotichSeii: Thank you, @Hakeenah. This i...</td>\n",
       "      <td>en</td>\n",
       "      <td>Nairobi, Kenya</td>\n",
       "      <td>False</td>\n",
       "      <td>Twitter for Android</td>\n",
       "      <td>108</td>\n",
       "      <td>0</td>\n",
       "    </tr>\n",
       "    <tr>\n",
       "      <th>1</th>\n",
       "      <td>2019-10-25 14:51:40</td>\n",
       "      <td>RT @rariedabull: The magnificent building unde...</td>\n",
       "      <td>en</td>\n",
       "      <td>Ciudad de Mexico</td>\n",
       "      <td>False</td>\n",
       "      <td>Twitter for Android</td>\n",
       "      <td>64</td>\n",
       "      <td>0</td>\n",
       "    </tr>\n",
       "    <tr>\n",
       "      <th>2</th>\n",
       "      <td>2019-10-25 14:49:18</td>\n",
       "      <td>RT @JerotichSeii: Thank you, @Hakeenah. This i...</td>\n",
       "      <td>en</td>\n",
       "      <td>127.0.0.1</td>\n",
       "      <td>False</td>\n",
       "      <td>Twitter for Android</td>\n",
       "      <td>108</td>\n",
       "      <td>0</td>\n",
       "    </tr>\n",
       "  </tbody>\n",
       "</table>\n",
       "</div>"
      ],
      "text/plain": [
       "                     0                                                  1   2  \\\n",
       "0  2019-10-25 14:53:25  RT @JerotichSeii: Thank you, @Hakeenah. This i...  en   \n",
       "1  2019-10-25 14:51:40  RT @rariedabull: The magnificent building unde...  en   \n",
       "2  2019-10-25 14:49:18  RT @JerotichSeii: Thank you, @Hakeenah. This i...  en   \n",
       "\n",
       "                  3      4                    5    6  7  \n",
       "0    Nairobi, Kenya  False  Twitter for Android  108  0  \n",
       "1  Ciudad de Mexico  False  Twitter for Android   64  0  \n",
       "2         127.0.0.1  False  Twitter for Android  108  0  "
      ]
     },
     "execution_count": 10,
     "metadata": {},
     "output_type": "execute_result"
    }
   ],
   "source": [
    "# Loading the Dataset\n",
    "\n",
    "dataset = pd.read_csv('#BBIKenya.csv', encoding = \"ISO-8859-1\")\n",
    "dataset.head(3)"
   ]
  },
  {
   "cell_type": "markdown",
   "metadata": {},
   "source": [
    "# Data Preprocessing, Mnaipulation and Feature Engineering"
   ]
  },
  {
   "cell_type": "code",
   "execution_count": 11,
   "metadata": {},
   "outputs": [],
   "source": [
    "dataset = dataset.rename(columns={'0': 'Datetime Created', '1': 'Tweet','2':'Language','3':'Location','4':'UserAccount Verified','5':'Tweet Source','6':'Retweet_count','7':'Favourite_count'})"
   ]
  },
  {
   "cell_type": "code",
   "execution_count": 12,
   "metadata": {},
   "outputs": [
    {
     "data": {
      "text/html": [
       "<div>\n",
       "<style scoped>\n",
       "    .dataframe tbody tr th:only-of-type {\n",
       "        vertical-align: middle;\n",
       "    }\n",
       "\n",
       "    .dataframe tbody tr th {\n",
       "        vertical-align: top;\n",
       "    }\n",
       "\n",
       "    .dataframe thead th {\n",
       "        text-align: right;\n",
       "    }\n",
       "</style>\n",
       "<table border=\"1\" class=\"dataframe\">\n",
       "  <thead>\n",
       "    <tr style=\"text-align: right;\">\n",
       "      <th></th>\n",
       "      <th>Datetime Created</th>\n",
       "      <th>Tweet</th>\n",
       "      <th>Language</th>\n",
       "      <th>Location</th>\n",
       "      <th>UserAccount Verified</th>\n",
       "      <th>Tweet Source</th>\n",
       "      <th>Retweet_count</th>\n",
       "      <th>Favourite_count</th>\n",
       "    </tr>\n",
       "  </thead>\n",
       "  <tbody>\n",
       "    <tr>\n",
       "      <th>0</th>\n",
       "      <td>2019-10-25 14:53:25</td>\n",
       "      <td>RT @JerotichSeii: Thank you, @Hakeenah. This i...</td>\n",
       "      <td>en</td>\n",
       "      <td>Nairobi, Kenya</td>\n",
       "      <td>False</td>\n",
       "      <td>Twitter for Android</td>\n",
       "      <td>108</td>\n",
       "      <td>0</td>\n",
       "    </tr>\n",
       "    <tr>\n",
       "      <th>1</th>\n",
       "      <td>2019-10-25 14:51:40</td>\n",
       "      <td>RT @rariedabull: The magnificent building unde...</td>\n",
       "      <td>en</td>\n",
       "      <td>Ciudad de Mexico</td>\n",
       "      <td>False</td>\n",
       "      <td>Twitter for Android</td>\n",
       "      <td>64</td>\n",
       "      <td>0</td>\n",
       "    </tr>\n",
       "    <tr>\n",
       "      <th>2</th>\n",
       "      <td>2019-10-25 14:49:18</td>\n",
       "      <td>RT @JerotichSeii: Thank you, @Hakeenah. This i...</td>\n",
       "      <td>en</td>\n",
       "      <td>127.0.0.1</td>\n",
       "      <td>False</td>\n",
       "      <td>Twitter for Android</td>\n",
       "      <td>108</td>\n",
       "      <td>0</td>\n",
       "    </tr>\n",
       "  </tbody>\n",
       "</table>\n",
       "</div>"
      ],
      "text/plain": [
       "      Datetime Created                                              Tweet  \\\n",
       "0  2019-10-25 14:53:25  RT @JerotichSeii: Thank you, @Hakeenah. This i...   \n",
       "1  2019-10-25 14:51:40  RT @rariedabull: The magnificent building unde...   \n",
       "2  2019-10-25 14:49:18  RT @JerotichSeii: Thank you, @Hakeenah. This i...   \n",
       "\n",
       "  Language          Location  UserAccount Verified         Tweet Source  \\\n",
       "0       en    Nairobi, Kenya                 False  Twitter for Android   \n",
       "1       en  Ciudad de Mexico                 False  Twitter for Android   \n",
       "2       en         127.0.0.1                 False  Twitter for Android   \n",
       "\n",
       "   Retweet_count  Favourite_count  \n",
       "0            108                0  \n",
       "1             64                0  \n",
       "2            108                0  "
      ]
     },
     "execution_count": 12,
     "metadata": {},
     "output_type": "execute_result"
    }
   ],
   "source": [
    "dataset.head(3)"
   ]
  },
  {
   "cell_type": "code",
   "execution_count": 13,
   "metadata": {},
   "outputs": [
    {
     "name": "stdout",
     "output_type": "stream",
     "text": [
      "[nltk_data] Downloading package vader_lexicon to\n",
      "[nltk_data]     /home/ec2-user/nltk_data...\n",
      "[nltk_data]   Package vader_lexicon is already up-to-date!\n"
     ]
    },
    {
     "data": {
      "text/plain": [
       "True"
      ]
     },
     "execution_count": 13,
     "metadata": {},
     "output_type": "execute_result"
    }
   ],
   "source": [
    "import nltk\n",
    "nltk.download('vader_lexicon')"
   ]
  },
  {
   "cell_type": "code",
   "execution_count": 14,
   "metadata": {},
   "outputs": [
    {
     "name": "stdout",
     "output_type": "stream",
     "text": [
      "[nltk_data] Downloading package wordnet to /home/ec2-user/nltk_data...\n",
      "[nltk_data]   Package wordnet is already up-to-date!\n"
     ]
    },
    {
     "data": {
      "text/plain": [
       "True"
      ]
     },
     "execution_count": 14,
     "metadata": {},
     "output_type": "execute_result"
    }
   ],
   "source": [
    "import nltk\n",
    "nltk.download('wordnet')"
   ]
  },
  {
   "cell_type": "code",
   "execution_count": 15,
   "metadata": {},
   "outputs": [],
   "source": [
    "from nltk.sentiment import vader\n",
    "from nltk.sentiment.util import *\n",
    "\n",
    "from nltk import tokenize\n",
    "\n",
    "sid = vader.SentimentIntensityAnalyzer()"
   ]
  },
  {
   "cell_type": "code",
   "execution_count": 16,
   "metadata": {},
   "outputs": [
    {
     "data": {
      "text/html": [
       "<div>\n",
       "<style scoped>\n",
       "    .dataframe tbody tr th:only-of-type {\n",
       "        vertical-align: middle;\n",
       "    }\n",
       "\n",
       "    .dataframe tbody tr th {\n",
       "        vertical-align: top;\n",
       "    }\n",
       "\n",
       "    .dataframe thead th {\n",
       "        text-align: right;\n",
       "    }\n",
       "</style>\n",
       "<table border=\"1\" class=\"dataframe\">\n",
       "  <thead>\n",
       "    <tr style=\"text-align: right;\">\n",
       "      <th></th>\n",
       "      <th>Datetime Created</th>\n",
       "      <th>Tweet</th>\n",
       "      <th>Language</th>\n",
       "      <th>Location</th>\n",
       "      <th>UserAccount Verified</th>\n",
       "      <th>Tweet Source</th>\n",
       "      <th>Retweet_count</th>\n",
       "      <th>Favourite_count</th>\n",
       "      <th>sentiment_compound_polarity</th>\n",
       "      <th>sentiment_negative</th>\n",
       "      <th>sentiment_pos</th>\n",
       "      <th>Sentiment</th>\n",
       "    </tr>\n",
       "  </thead>\n",
       "  <tbody>\n",
       "    <tr>\n",
       "      <th>0</th>\n",
       "      <td>2019-10-25 14:53:25</td>\n",
       "      <td>RT @JerotichSeii: Thank you, @Hakeenah. This i...</td>\n",
       "      <td>en</td>\n",
       "      <td>Nairobi, Kenya</td>\n",
       "      <td>False</td>\n",
       "      <td>Twitter for Android</td>\n",
       "      <td>108</td>\n",
       "      <td>0</td>\n",
       "      <td>0.3612</td>\n",
       "      <td>0.0</td>\n",
       "      <td>0.135</td>\n",
       "      <td>1</td>\n",
       "    </tr>\n",
       "    <tr>\n",
       "      <th>1</th>\n",
       "      <td>2019-10-25 14:51:40</td>\n",
       "      <td>RT @rariedabull: The magnificent building unde...</td>\n",
       "      <td>en</td>\n",
       "      <td>Ciudad de Mexico</td>\n",
       "      <td>False</td>\n",
       "      <td>Twitter for Android</td>\n",
       "      <td>64</td>\n",
       "      <td>0</td>\n",
       "      <td>0.6369</td>\n",
       "      <td>0.0</td>\n",
       "      <td>0.206</td>\n",
       "      <td>1</td>\n",
       "    </tr>\n",
       "  </tbody>\n",
       "</table>\n",
       "</div>"
      ],
      "text/plain": [
       "      Datetime Created                                              Tweet  \\\n",
       "0  2019-10-25 14:53:25  RT @JerotichSeii: Thank you, @Hakeenah. This i...   \n",
       "1  2019-10-25 14:51:40  RT @rariedabull: The magnificent building unde...   \n",
       "\n",
       "  Language          Location  UserAccount Verified         Tweet Source  \\\n",
       "0       en    Nairobi, Kenya                 False  Twitter for Android   \n",
       "1       en  Ciudad de Mexico                 False  Twitter for Android   \n",
       "\n",
       "   Retweet_count  Favourite_count  sentiment_compound_polarity  \\\n",
       "0            108                0                       0.3612   \n",
       "1             64                0                       0.6369   \n",
       "\n",
       "   sentiment_negative  sentiment_pos  Sentiment  \n",
       "0                 0.0          0.135          1  \n",
       "1                 0.0          0.206          1  "
      ]
     },
     "execution_count": 16,
     "metadata": {},
     "output_type": "execute_result"
    }
   ],
   "source": [
    "dataset['sentiment_compound_polarity']=dataset.Tweet.apply(lambda x:sid.polarity_scores(x)['compound'])\n",
    "\n",
    "dataset['sentiment_negative']=dataset.Tweet.apply(lambda x:sid.polarity_scores(x)['neg'])\n",
    "dataset['sentiment_pos']=dataset.Tweet.apply(lambda x:sid.polarity_scores(x)['pos'])\n",
    "dataset['Sentiment']=''\n",
    "dataset.loc[dataset.sentiment_compound_polarity>=0,'Sentiment']=1\n",
    "\n",
    "dataset.loc[dataset.sentiment_compound_polarity<0,'Sentiment']=0\n",
    "dataset.head(2)"
   ]
  },
  {
   "cell_type": "code",
   "execution_count": null,
   "metadata": {},
   "outputs": [],
   "source": []
  },
  {
   "cell_type": "code",
   "execution_count": 17,
   "metadata": {},
   "outputs": [],
   "source": [
    "from datetime import date"
   ]
  },
  {
   "cell_type": "code",
   "execution_count": 18,
   "metadata": {},
   "outputs": [],
   "source": [
    "dataset['Datetime Created'] = pd.to_datetime(dataset['Datetime Created'])"
   ]
  },
  {
   "cell_type": "code",
   "execution_count": 19,
   "metadata": {},
   "outputs": [],
   "source": [
    "dataset['Year'] = dataset['Datetime Created'].dt.year\n",
    "dataset['Week of the Year'] = dataset['Datetime Created'].dt.weekofyear\n",
    "dataset['Day of the Year'] = dataset['Datetime Created'].dt.dayofyear\n",
    "dataset['Month_name'] = dataset['Datetime Created'].dt.month_name()\n",
    "dataset['Day of the Week'] = dataset['Datetime Created'].dt.weekday\n",
    "dataset['Name of the Day'] = dataset['Datetime Created'].dt.day_name()\n",
    "dataset['Hour'] = dataset['Datetime Created'].dt.hour\n",
    "dataset['Minute'] = dataset['Datetime Created'].dt.minute"
   ]
  },
  {
   "cell_type": "code",
   "execution_count": null,
   "metadata": {},
   "outputs": [],
   "source": []
  },
  {
   "cell_type": "code",
   "execution_count": 20,
   "metadata": {},
   "outputs": [],
   "source": [
    "dataset[\"Tweet_length\"] = dataset[\"Tweet\"].apply(lambda x: len(x))"
   ]
  },
  {
   "cell_type": "code",
   "execution_count": 22,
   "metadata": {},
   "outputs": [
    {
     "data": {
      "text/plain": [
       "Text(0.5, 1.0, 'The Number of Tweets by Hour')"
      ]
     },
     "execution_count": 22,
     "metadata": {},
     "output_type": "execute_result"
    },
    {
     "data": {
      "image/png": "[encoded data removed]",
      "text/plain": [
       "<Figure size 468x288 with 1 Axes>"
      ]
     },
     "metadata": {},
     "output_type": "display_data"
    }
   ],
   "source": [
    "tweets_hour = dataset.groupby(['Hour'])['Tweet_length'].sum()\n",
    "import seaborn as sns\n",
    "tweets_hour.transpose().plot(kind='line',figsize=(6.5, 4))\n",
    "plt.legend(bbox_to_anchor=(1.05, 1), loc=2, borderaxespad=0.)\n",
    "plt.title('The Number of Tweets by Hour', bbox={'facecolor':'0.8', 'pad':0})"
   ]
  },
  {
   "cell_type": "markdown",
   "metadata": {},
   "source": [
    "## Data Preprocessing the Tweets"
   ]
  },
  {
   "cell_type": "code",
   "execution_count": 23,
   "metadata": {},
   "outputs": [
    {
     "data": {
      "text/plain": [
       "0    RT Thank you, This is the concerted effort of ...\n",
       "1    RT The magnificent building under intense fire...\n",
       "2    RT Thank you, This is the concerted effort of ...\n",
       "3                         RT Seen this? #SwitchOffKPLC\n",
       "4    RT surely can a corrupt deliver justice for Ke...\n",
       "5    RT Thank you, This is the concerted effort of ...\n",
       "6    RT Why does have it in for our mothers &amp; g...\n",
       "7    RT Thank you, This is the concerted effort of ...\n",
       "8                  RT 1. is still stuck on the Sh35â¦\n",
       "9    RT Thank you, This is the concerted effort of ...\n",
       "Name: Tweet, dtype: object"
      ]
     },
     "metadata": {},
     "output_type": "display_data"
    }
   ],
   "source": [
    "# Preprocessing del RT @blablabla:\n",
    "dataset['tweetos'] = '' \n",
    "\n",
    "# add tweetos first part\n",
    "for i in range(len(dataset['Tweet'])):\n",
    "    try:\n",
    "        dataset['tweetos'][i] = dataset['Tweet'].str.split(' ')[i][0]\n",
    "    except AttributeError:    \n",
    "        dataset['tweetos'][i] = 'other'\n",
    "\n",
    "# Preprocessing tweetos. select tweetos contains 'RT @'\n",
    "for i in range(len(dataset['Tweet'])):\n",
    "    if dataset['tweetos'].str.contains('@')[i]  == False:\n",
    "        dataset['tweetos'][i] = 'other'\n",
    "        \n",
    "# remove URLs, RTs, and twitter handles\n",
    "for i in range(len(dataset['Tweet'])):\n",
    "    dataset['Tweet'][i] = \" \".join([word for word in dataset['Tweet'][i].split()\n",
    "                                if 'http' not in word and '@' not in word and '<' not in word])   \n",
    "        \n",
    "display(dataset.Tweet.head(10))"
   ]
  },
  {
   "cell_type": "code",
   "execution_count": 25,
   "metadata": {},
   "outputs": [
    {
     "data": {
      "text/html": [
       "        <script type=\"text/javascript\">\n",
       "        window.PlotlyConfig = {MathJaxConfig: 'local'};\n",
       "        if (window.MathJax) {MathJax.Hub.Config({SVG: {font: \"STIX-Web\"}});}\n",
       "        if (typeof require !== 'undefined') {\n",
       "        require.undef(\"plotly\");\n",
       "        requirejs.config({\n",
       "            paths: {\n",
       "                'plotly': ['https://cdn.plot.ly/plotly-latest.min']\n",
       "            }\n",
       "        });\n",
       "        require(['plotly'], function(Plotly) {\n",
       "            window._Plotly = Plotly;\n",
       "        });\n",
       "        }\n",
       "        </script>\n",
       "        "
      ]
     },
     "metadata": {},
     "output_type": "display_data"
    }
   ],
   "source": [
    "import numpy as np\n",
    "import pandas as pd\n",
    "from subprocess import check_output\n",
    "from bs4 import BeautifulSoup\n",
    "import re\n",
    "import plotly.offline as py\n",
    "py.init_notebook_mode(connected=True)\n",
    "import plotly.graph_objs as go\n",
    "import plotly.tools as tls\n",
    "from nltk.corpus import stopwords"
   ]
  },
  {
   "cell_type": "code",
   "execution_count": 26,
   "metadata": {},
   "outputs": [],
   "source": [
    "def clean(x):\n",
    "    #Remove Html  \n",
    "    x=BeautifulSoup(x).get_text()\n",
    "    \n",
    "    #Remove Non-Letters\n",
    "    x=re.sub('[^a-zA-Z]',' ',x)\n",
    "    \n",
    "    #Convert to lower_case and split\n",
    "    x=x.lower().split()\n",
    "    \n",
    "    #Remove stopwords\n",
    "    stop=set(stopwords.words('english'))\n",
    "    words=[w for w in x if not w in stop]\n",
    "    \n",
    "    #join the words back into one string\n",
    "    return(' '.join(words))"
   ]
  },
  {
   "cell_type": "code",
   "execution_count": 29,
   "metadata": {},
   "outputs": [
    {
     "data": {
      "image/png": "[encoded data removed]",
      "text/plain": [
       "<Figure size 432x288 with 1 Axes>"
      ]
     },
     "metadata": {},
     "output_type": "display_data"
    }
   ],
   "source": [
    "def wordcloud_by_province(dataset):\n",
    "    stopwords = set(STOPWORDS)\n",
    "    stopwords.add(\"https\")\n",
    "    stopwords.add(\"00A0\")\n",
    "    stopwords.add(\"00BD\")\n",
    "    stopwords.add(\"00B8\")\n",
    "    stopwords.add(\"ed\")\n",
    "    stopwords.add(\"demonetization\")\n",
    "    stopwords.add(\"Demonetization co\")\n",
    "    #Narendra Modi is the Prime minister of India\n",
    "    stopwords.add(\"lakh\")\n",
    "    wordcloud = WordCloud(background_color=\"white\",stopwords=stopwords,random_state = 2016).generate(\" \".join([i for i in dataset['Tweet'].str.upper()]))\n",
    "    plt.imshow(wordcloud)\n",
    "    plt.axis(\"off\")\n",
    "    plt.title(\"Demonetization\")\n",
    "\n",
    "wordcloud_by_province(dataset)"
   ]
  },
  {
   "cell_type": "markdown",
   "metadata": {},
   "source": [
    "# Model Building Process"
   ]
  },
  {
   "cell_type": "code",
   "execution_count": 30,
   "metadata": {},
   "outputs": [],
   "source": [
    "eng_features = ['Tweet_length', 'Retweet_count', 'Day of the Week', \n",
    "                'Hour', 'Year']"
   ]
  },
  {
   "cell_type": "code",
   "execution_count": 31,
   "metadata": {},
   "outputs": [
    {
     "data": {
      "text/plain": [
       "array([0, 1])"
      ]
     },
     "execution_count": 31,
     "metadata": {},
     "output_type": "execute_result"
    }
   ],
   "source": [
    "train_target = dataset['Sentiment'].values\n",
    "\n",
    "np.unique(train_target)"
   ]
  },
  {
   "cell_type": "code",
   "execution_count": 32,
   "metadata": {},
   "outputs": [
    {
     "data": {
      "text/plain": [
       "0.8225352112676056"
      ]
     },
     "execution_count": 32,
     "metadata": {},
     "output_type": "execute_result"
    }
   ],
   "source": [
    "train_target.mean()"
   ]
  },
  {
   "cell_type": "code",
   "execution_count": 35,
   "metadata": {},
   "outputs": [],
   "source": [
    "import numpy as np\n",
    "import pandas as pd\n",
    "import time\n",
    "from tqdm import tqdm\n",
    "\n",
    "import lightgbm as lgb\n",
    "\n",
    "from sklearn.metrics import f1_score\n",
    "from sklearn.model_selection import KFold\n",
    "from sklearn.feature_extraction.text import TfidfVectorizer\n",
    "from sklearn.linear_model import LogisticRegression\n",
    "from sklearn.model_selection import cross_val_score\n",
    "from sklearn.naive_bayes import GaussianNB, MultinomialNB, BernoulliNB\n",
    "\n",
    "import nltk\n",
    "from nltk.corpus import stopwords\n",
    "import string\n",
    "\n",
    "from scipy.sparse import hstack"
   ]
  },
  {
   "cell_type": "code",
   "execution_count": 36,
   "metadata": {},
   "outputs": [
    {
     "name": "stderr",
     "output_type": "stream",
     "text": [
      "5it [00:00, 26.80it/s]\n"
     ]
    }
   ],
   "source": [
    "kf = KFold(n_splits=5, shuffle=True, random_state=43)\n",
    "test_pred = 0\n",
    "oof_pred = np.zeros([dataset.shape[0],])\n",
    "\n",
    "x_test = dataset[eng_features].values\n",
    "for i, (train_index, val_index) in tqdm(enumerate(kf.split(dataset))):\n",
    "    x_train, x_val = dataset.loc[train_index][eng_features].values, dataset.loc[val_index][eng_features].values\n",
    "    y_train, y_val = train_target[train_index], train_target[val_index]\n",
    "    classifier = LogisticRegression(C= 0.1)\n",
    "    classifier.fit(x_train, y_train)\n",
    "    val_preds = classifier.predict_proba(x_val)[:,1]\n",
    "    preds = classifier.predict_proba(x_test)[:,1]\n",
    "    test_pred += 0.2*preds\n",
    "    oof_pred[val_index] = val_preds"
   ]
  },
  {
   "cell_type": "code",
   "execution_count": 37,
   "metadata": {},
   "outputs": [
    {
     "data": {
      "text/plain": [
       "0.9026275115919629"
      ]
     },
     "execution_count": 37,
     "metadata": {},
     "output_type": "execute_result"
    }
   ],
   "source": [
    "pred_train = (oof_pred > 0.5).astype(np.int)\n",
    "f1_score(train_target, pred_train)"
   ]
  },
  {
   "cell_type": "code",
   "execution_count": 38,
   "metadata": {},
   "outputs": [
    {
     "data": {
      "text/plain": [
       "0.9026275115919629"
      ]
     },
     "execution_count": 38,
     "metadata": {},
     "output_type": "execute_result"
    }
   ],
   "source": [
    "f1_score(train_target, pred_train)"
   ]
  },
  {
   "cell_type": "code",
   "execution_count": 39,
   "metadata": {},
   "outputs": [
    {
     "data": {
      "text/plain": [
       "0.9026275115919629"
      ]
     },
     "execution_count": 39,
     "metadata": {},
     "output_type": "execute_result"
    }
   ],
   "source": [
    "pred_train = (oof_pred > 0.12).astype(np.int)\n",
    "f1_score(train_target, pred_train)"
   ]
  },
  {
   "cell_type": "markdown",
   "metadata": {},
   "source": [
    "#### For our second model we'll use TF-IDF with a logistic regression. The next couple of secontions are based on my LR with n-grams notebook. Firtst, let's embed all the text vectors:"
   ]
  },
  {
   "cell_type": "code",
   "execution_count": null,
   "metadata": {},
   "outputs": [],
   "source": []
  },
  {
   "cell_type": "code",
   "execution_count": 74,
   "metadata": {},
   "outputs": [],
   "source": [
    "train_text = dataset['Tweet']\n",
    "\n",
    "\n",
    "word_vectorizer = TfidfVectorizer(\n",
    "    sublinear_tf=True,\n",
    "    strip_accents='unicode',\n",
    "    analyzer='word',\n",
    "    token_pattern=r'\\w{1,}',\n",
    "    stop_words='english',\n",
    "    ngram_range=(1, 1),\n",
    "    max_features=5000)\n",
    "word_vectorizer.fit(train_text)\n",
    "train_word_features = word_vectorizer.transform(train_text)"
   ]
  },
  {
   "cell_type": "markdown",
   "metadata": {},
   "source": [
    "### Now let's see how well a logistic regression trained on these features does:"
   ]
  },
  {
   "cell_type": "code",
   "execution_count": 41,
   "metadata": {},
   "outputs": [
    {
     "name": "stderr",
     "output_type": "stream",
     "text": [
      "5it [00:00, 90.74it/s]\n"
     ]
    }
   ],
   "source": [
    "kf = KFold(n_splits=5, shuffle=True, random_state=43)\n",
    "test_pred_tf = 0\n",
    "oof_pred_tf = np.zeros([dataset.shape[0],])\n",
    "\n",
    "for i, (train_index, val_index) in tqdm(enumerate(kf.split(dataset))):\n",
    "    x_train, x_val = train_word_features[train_index,:], train_word_features[val_index,:]\n",
    "    y_train, y_val = train_target[train_index], train_target[val_index]\n",
    "    classifier = LogisticRegression(class_weight = \"balanced\", C=0.5, solver='sag')\n",
    "    classifier.fit(x_train, y_train)\n",
    "    val_preds = classifier.predict_proba(x_val)[:,1]\n",
    "    preds = classifier.predict_proba(train_word_features)[:,1]\n",
    "    test_pred_tf += 0.2*preds\n",
    "    oof_pred_tf[val_index] = val_preds"
   ]
  },
  {
   "cell_type": "code",
   "execution_count": 42,
   "metadata": {},
   "outputs": [
    {
     "data": {
      "text/plain": [
       "0.7858627858627859"
      ]
     },
     "execution_count": 42,
     "metadata": {},
     "output_type": "execute_result"
    }
   ],
   "source": [
    "pred_train = (oof_pred_tf > 0.8).astype(np.int)\n",
    "f1_score(train_target, pred_train)"
   ]
  },
  {
   "cell_type": "code",
   "execution_count": 43,
   "metadata": {},
   "outputs": [
    {
     "data": {
      "text/plain": [
       "0.9664666431344864"
      ]
     },
     "execution_count": 43,
     "metadata": {},
     "output_type": "execute_result"
    }
   ],
   "source": [
    "pred_train = (0.8*oof_pred_tf+0.2*oof_pred > 0.68).astype(np.int)\n",
    "f1_score(train_target, pred_train)"
   ]
  },
  {
   "cell_type": "code",
   "execution_count": null,
   "metadata": {},
   "outputs": [],
   "source": []
  },
  {
   "cell_type": "markdown",
   "metadata": {},
   "source": [
    "### The following Logistic Regression is based  Count Vectorizer notebook:"
   ]
  },
  {
   "cell_type": "code",
   "execution_count": 44,
   "metadata": {},
   "outputs": [],
   "source": [
    "# Train Vectorizor\n",
    "from sklearn.feature_extraction.text import CountVectorizer \n",
    "\n",
    "bow = CountVectorizer()"
   ]
  },
  {
   "cell_type": "code",
   "execution_count": 45,
   "metadata": {},
   "outputs": [
    {
     "name": "stderr",
     "output_type": "stream",
     "text": [
      "5it [00:00, 12.54it/s]\n"
     ]
    }
   ],
   "source": [
    "kf = KFold(n_splits=5, shuffle=True, random_state=43)\n",
    "test_pred_cv = 0\n",
    "oof_pred_cv = np.zeros([dataset.shape[0],])\n",
    "\n",
    "\n",
    "for i, (train_index, val_index) in tqdm(enumerate(kf.split(dataset))):\n",
    "    x_train, x_val = dataset.loc[train_index]['Tweet'].values, dataset.loc[val_index]['Tweet'].values\n",
    "    y_train, y_val = train_target[train_index], train_target[val_index]\n",
    "    x_test = dataset['Tweet'].values\n",
    "    \n",
    "    bow = CountVectorizer()\n",
    "    x_train = bow.fit_transform(x_train)\n",
    "    x_val = bow.transform(x_val)\n",
    "    x_test = bow.transform(x_test)\n",
    "\n",
    "    classifier = LogisticRegression(penalty = \"l1\", C = 1.25, class_weight = \"balanced\")\n",
    "    \n",
    "    classifier.fit(x_train, y_train)\n",
    "    val_preds = classifier.predict_proba(x_val)[:,1]\n",
    "    preds = classifier.predict_proba(x_test)[:,1]\n",
    "    test_pred_cv += 0.2*preds\n",
    "    oof_pred_cv[val_index] = val_preds"
   ]
  },
  {
   "cell_type": "markdown",
   "metadata": {},
   "source": [
    "### The following classifiers are inspired by  Naive Bayes notebook:"
   ]
  },
  {
   "cell_type": "code",
   "execution_count": 46,
   "metadata": {},
   "outputs": [
    {
     "name": "stderr",
     "output_type": "stream",
     "text": [
      "5it [00:00, 13.66it/s]\n"
     ]
    }
   ],
   "source": [
    "kf = KFold(n_splits=5, shuffle=True, random_state=43)\n",
    "test_pred_cv_2 = 0\n",
    "oof_pred_cv_2 = np.zeros([dataset.shape[0],])\n",
    "test_pred_cv_3 = 0\n",
    "oof_pred_cv_3 = np.zeros([dataset.shape[0],])\n",
    "\n",
    "\n",
    "for i, (train_index, val_index) in tqdm(enumerate(kf.split(dataset))):\n",
    "    x_train, x_val = dataset.loc[train_index]['Tweet'].values, dataset.loc[val_index]['Tweet'].values\n",
    "    y_train, y_val = train_target[train_index], train_target[val_index]\n",
    "    x_test = dataset['Tweet'].values\n",
    "    \n",
    "    bow = CountVectorizer()\n",
    "    x_train = bow.fit_transform(x_train)\n",
    "    x_val = bow.transform(x_val)\n",
    "    x_test = bow.transform(x_test)\n",
    "    \n",
    "    classifier2 = MultinomialNB()\n",
    "    classifier3 = BernoulliNB()\n",
    "    \n",
    "    classifier2.fit(x_train, y_train)\n",
    "    val_preds = classifier2.predict_proba(x_val)[:,1]\n",
    "    preds = classifier2.predict_proba(x_test)[:,1]\n",
    "    test_pred_cv_2 += 0.2*preds\n",
    "    oof_pred_cv_2[val_index] = val_preds\n",
    "    \n",
    "    classifier3.fit(x_train, y_train)\n",
    "    val_preds = classifier3.predict_proba(x_val)[:,1]\n",
    "    preds = classifier3.predict_proba(x_test)[:,1]\n",
    "    test_pred_cv_3 += 0.2*preds\n",
    "    oof_pred_cv_3[val_index] = val_preds"
   ]
  },
  {
   "cell_type": "code",
   "execution_count": 47,
   "metadata": {},
   "outputs": [
    {
     "data": {
      "text/plain": [
       "0.9821551132463968"
      ]
     },
     "execution_count": 47,
     "metadata": {},
     "output_type": "execute_result"
    }
   ],
   "source": [
    "pred_train = (oof_pred_cv > 0.75).astype(np.int)\n",
    "f1_score(train_target, pred_train)"
   ]
  },
  {
   "cell_type": "code",
   "execution_count": 48,
   "metadata": {},
   "outputs": [
    {
     "data": {
      "text/plain": [
       "0.9703315881326352"
      ]
     },
     "execution_count": 48,
     "metadata": {},
     "output_type": "execute_result"
    }
   ],
   "source": [
    "pred_train = (oof_pred_cv_2 > 0.7).astype(np.int)\n",
    "f1_score(train_target, pred_train)"
   ]
  },
  {
   "cell_type": "code",
   "execution_count": 49,
   "metadata": {},
   "outputs": [
    {
     "data": {
      "text/plain": [
       "0.9786206896551723"
      ]
     },
     "execution_count": 49,
     "metadata": {},
     "output_type": "execute_result"
    }
   ],
   "source": [
    "pred_train = (oof_pred_cv_3 > 0.7).astype(np.int)\n",
    "f1_score(train_target, pred_train)"
   ]
  },
  {
   "cell_type": "code",
   "execution_count": 50,
   "metadata": {},
   "outputs": [
    {
     "data": {
      "text/plain": [
       "0.9803516028955533"
      ]
     },
     "execution_count": 50,
     "metadata": {},
     "output_type": "execute_result"
    }
   ],
   "source": [
    "pred_train = (0.7*oof_pred_cv+0.2*oof_pred_cv_2+0.1*oof_pred_cv_3 > 0.7).astype(np.int)\n",
    "f1_score(train_target, pred_train)"
   ]
  },
  {
   "cell_type": "code",
   "execution_count": null,
   "metadata": {},
   "outputs": [],
   "source": []
  },
  {
   "cell_type": "code",
   "execution_count": 80,
   "metadata": {},
   "outputs": [
    {
     "name": "stderr",
     "output_type": "stream",
     "text": [
      "0it [00:05, ?it/s]\n"
     ]
    },
    {
     "ename": "ValueError",
     "evalue": "X has 1029 features per sample; expecting 1080",
     "output_type": "error",
     "traceback": [
      "\u001b[0;31m---------------------------------------------------------------------------\u001b[0m",
      "\u001b[0;31mValueError\u001b[0m                                Traceback (most recent call last)",
      "\u001b[0;32m<ipython-input-80-a1910c23817d>\u001b[0m in \u001b[0;36m<module>\u001b[0;34m()\u001b[0m\n\u001b[1;32m     42\u001b[0m \u001b[0;34m\u001b[0m\u001b[0m\n\u001b[1;32m     43\u001b[0m     \u001b[0mval_preds\u001b[0m \u001b[0;34m=\u001b[0m \u001b[0mmodel\u001b[0m\u001b[0;34m.\u001b[0m\u001b[0mpredict\u001b[0m\u001b[0;34m(\u001b[0m\u001b[0mx_val\u001b[0m\u001b[0;34m)\u001b[0m\u001b[0;34m\u001b[0m\u001b[0m\n\u001b[0;32m---> 44\u001b[0;31m     \u001b[0mpreds\u001b[0m \u001b[0;34m=\u001b[0m \u001b[0mclassifier\u001b[0m\u001b[0;34m.\u001b[0m\u001b[0mpredict\u001b[0m\u001b[0;34m(\u001b[0m\u001b[0mtrain_word_features\u001b[0m\u001b[0;34m)\u001b[0m\u001b[0;34m\u001b[0m\u001b[0m\n\u001b[0m\u001b[1;32m     45\u001b[0m     \u001b[0mtest_pred_lgb\u001b[0m \u001b[0;34m+=\u001b[0m \u001b[0;36m0.2\u001b[0m\u001b[0;34m*\u001b[0m\u001b[0mpreds\u001b[0m\u001b[0;34m\u001b[0m\u001b[0m\n\u001b[1;32m     46\u001b[0m     \u001b[0moof_pred_lgb\u001b[0m\u001b[0;34m[\u001b[0m\u001b[0mval_index\u001b[0m\u001b[0;34m]\u001b[0m \u001b[0;34m=\u001b[0m \u001b[0mval_preds\u001b[0m\u001b[0;34m\u001b[0m\u001b[0m\n",
      "\u001b[0;32m~/anaconda3/envs/amazonei_tensorflow_p36/lib/python3.6/site-packages/sklearn/linear_model/base.py\u001b[0m in \u001b[0;36mpredict\u001b[0;34m(self, X)\u001b[0m\n\u001b[1;32m    279\u001b[0m             \u001b[0mPredicted\u001b[0m \u001b[0;32mclass\u001b[0m \u001b[0mlabel\u001b[0m \u001b[0mper\u001b[0m \u001b[0msample\u001b[0m\u001b[0;34m.\u001b[0m\u001b[0;34m\u001b[0m\u001b[0m\n\u001b[1;32m    280\u001b[0m         \"\"\"\n\u001b[0;32m--> 281\u001b[0;31m         \u001b[0mscores\u001b[0m \u001b[0;34m=\u001b[0m \u001b[0mself\u001b[0m\u001b[0;34m.\u001b[0m\u001b[0mdecision_function\u001b[0m\u001b[0;34m(\u001b[0m\u001b[0mX\u001b[0m\u001b[0;34m)\u001b[0m\u001b[0;34m\u001b[0m\u001b[0m\n\u001b[0m\u001b[1;32m    282\u001b[0m         \u001b[0;32mif\u001b[0m \u001b[0mlen\u001b[0m\u001b[0;34m(\u001b[0m\u001b[0mscores\u001b[0m\u001b[0;34m.\u001b[0m\u001b[0mshape\u001b[0m\u001b[0;34m)\u001b[0m \u001b[0;34m==\u001b[0m \u001b[0;36m1\u001b[0m\u001b[0;34m:\u001b[0m\u001b[0;34m\u001b[0m\u001b[0m\n\u001b[1;32m    283\u001b[0m             \u001b[0mindices\u001b[0m \u001b[0;34m=\u001b[0m \u001b[0;34m(\u001b[0m\u001b[0mscores\u001b[0m \u001b[0;34m>\u001b[0m \u001b[0;36m0\u001b[0m\u001b[0;34m)\u001b[0m\u001b[0;34m.\u001b[0m\u001b[0mastype\u001b[0m\u001b[0;34m(\u001b[0m\u001b[0mnp\u001b[0m\u001b[0;34m.\u001b[0m\u001b[0mint\u001b[0m\u001b[0;34m)\u001b[0m\u001b[0;34m\u001b[0m\u001b[0m\n",
      "\u001b[0;32m~/anaconda3/envs/amazonei_tensorflow_p36/lib/python3.6/site-packages/sklearn/linear_model/base.py\u001b[0m in \u001b[0;36mdecision_function\u001b[0;34m(self, X)\u001b[0m\n\u001b[1;32m    260\u001b[0m         \u001b[0;32mif\u001b[0m \u001b[0mX\u001b[0m\u001b[0;34m.\u001b[0m\u001b[0mshape\u001b[0m\u001b[0;34m[\u001b[0m\u001b[0;36m1\u001b[0m\u001b[0;34m]\u001b[0m \u001b[0;34m!=\u001b[0m \u001b[0mn_features\u001b[0m\u001b[0;34m:\u001b[0m\u001b[0;34m\u001b[0m\u001b[0m\n\u001b[1;32m    261\u001b[0m             raise ValueError(\"X has %d features per sample; expecting %d\"\n\u001b[0;32m--> 262\u001b[0;31m                              % (X.shape[1], n_features))\n\u001b[0m\u001b[1;32m    263\u001b[0m \u001b[0;34m\u001b[0m\u001b[0m\n\u001b[1;32m    264\u001b[0m         scores = safe_sparse_dot(X, self.coef_.T,\n",
      "\u001b[0;31mValueError\u001b[0m: X has 1029 features per sample; expecting 1080"
     ]
    }
   ],
   "source": [
    "import lightgbm as lgb\n",
    "\n",
    "def lgb_f1_score(y_hat, data):\n",
    "    y_true = data.get_label()\n",
    "    y_hat = np.round(y_hat) # scikits f1 doesn't like probabilities\n",
    "    return 'f1', f1_score(y_true, y_hat), True\n",
    "\n",
    "params = {'learning_rate': 0.05,\n",
    "          'application': 'regression',\n",
    "          'max_depth': 9,\n",
    "          'num_leaves': 100,\n",
    "          'verbosity': -1,\n",
    "          'metric': 'rmse',\n",
    "          'data_random_seed': 3,\n",
    "          'bagging_fraction': 0.8,\n",
    "          'feature_fraction': 0.4,\n",
    "          'nthread': 16,\n",
    "          'lambda_l1': 1,\n",
    "          'lambda_l2': 1,\n",
    "          'num_rounds': 2700,\n",
    "          'verbose_eval': 100}\n",
    "\n",
    "\n",
    "kf = KFold(n_splits=5, shuffle=True, random_state=43)\n",
    "test_pred_lgb = 0\n",
    "oof_pred_lgb = np.zeros([dataset.shape[0],])\n",
    "\n",
    "for i, (train_index, val_index) in tqdm(enumerate(kf.split(dataset))):\n",
    "    x_train, x_val = train_word_features[train_index,:], train_word_features[val_index,:]\n",
    "    y_train, y_val = train_target[train_index], train_target[val_index]\n",
    "    \n",
    "    d_train = lgb.Dataset(x_train, label=y_train)\n",
    "    d_valid = lgb.Dataset(x_val, label=y_val)\n",
    "\n",
    "    num_rounds = 2500\n",
    "    model = lgb.train(params,\n",
    "                  train_set=d_train,\n",
    "                  num_boost_round=num_rounds,\n",
    "                  valid_sets=[d_train, d_valid],\n",
    "                  valid_names=['train', 'val'],\n",
    "                  verbose_eval=0)\n",
    "    \n",
    "    val_preds = model.predict(x_val)\n",
    "    preds = classifier.predict(train_word_features)\n",
    "    test_pred_lgb += 0.2*preds\n",
    "    oof_pred_lgb[val_index] = val_preds"
   ]
  },
  {
   "cell_type": "code",
   "execution_count": 78,
   "metadata": {},
   "outputs": [
    {
     "data": {
      "text/plain": [
       "0.0"
      ]
     },
     "execution_count": 78,
     "metadata": {},
     "output_type": "execute_result"
    }
   ],
   "source": [
    "pred_train = (oof_pred_lgb > 0.3).astype(np.int)\n",
    "f1_score(train_target, pred_train)"
   ]
  },
  {
   "cell_type": "code",
   "execution_count": 79,
   "metadata": {},
   "outputs": [
    {
     "data": {
      "text/plain": [
       "0.0"
      ]
     },
     "execution_count": 79,
     "metadata": {},
     "output_type": "execute_result"
    }
   ],
   "source": [
    "pred_train = (0.65*oof_pred_lgb+0.35*oof_pred_tf+0.1*oof_pred > 0.5).astype(np.int)\n",
    "f1_score(train_target, pred_train)"
   ]
  },
  {
   "cell_type": "markdown",
   "metadata": {},
   "source": [
    "## The Stacked Model"
   ]
  },
  {
   "cell_type": "code",
   "execution_count": 63,
   "metadata": {},
   "outputs": [
    {
     "name": "stderr",
     "output_type": "stream",
     "text": [
      "5it [00:00, 18.44it/s]\n"
     ]
    }
   ],
   "source": [
    "kf = KFold(n_splits=5, shuffle=True, random_state=43)\n",
    "test_pred_stack = 0\n",
    "oof_pred_stack = np.zeros([dataset.shape[0],])\n",
    "\n",
    "for i, (train_index, val_index) in tqdm(enumerate(kf.split(dataset))):\n",
    "    y_train, y_val = train_target[train_index], train_target[val_index]\n",
    "    classifier = LogisticRegression(class_weight = \"balanced\", C=0.5, solver='sag')\n",
    "    classifier.fit(x_train, y_train)\n",
    "    val_preds = classifier.predict_proba(x_val)[:,1]\n",
    "    test_pred_stack += 0.2*preds\n",
    "    oof_pred_stack[val_index] = val_preds"
   ]
  },
  {
   "cell_type": "code",
   "execution_count": 64,
   "metadata": {},
   "outputs": [
    {
     "name": "stdout",
     "output_type": "stream",
     "text": [
      "CV: 0.9118773946360154, Threshold: 0.15999999999999998\n"
     ]
    }
   ],
   "source": [
    "score = 0\n",
    "thresh = .5\n",
    "for i in np.arange(0.1, 0.951, 0.01):\n",
    "    temp_score = f1_score(train_target, (oof_pred_stack > i))\n",
    "    if(temp_score > score):\n",
    "        score = temp_score\n",
    "        thresh = i\n",
    "\n",
    "print(\"CV: {}, Threshold: {}\".format(score, thresh))"
   ]
  },
  {
   "cell_type": "markdown",
   "metadata": {},
   "source": [
    "### Saving a Submission CSV File"
   ]
  },
  {
   "cell_type": "code",
   "execution_count": 66,
   "metadata": {},
   "outputs": [],
   "source": [
    "pred_test = ( test_pred_stack> thresh).astype(np.int)\n",
    "submission = pd.DataFrame.from_dict({'Tweet': dataset['Tweet']})\n",
    "submission['prediction'] = pred_test\n",
    "submission.to_csv('submission.csv', index=False)"
   ]
  }
 ],
 "metadata": {
  "kernelspec": {
   "display_name": "conda_amazonei_tensorflow_p36",
   "language": "python",
   "name": "conda_amazonei_tensorflow_p36"
  },
  "language_info": {
   "codemirror_mode": {
    "name": "ipython",
    "version": 3
   },
   "file_extension": ".py",
   "mimetype": "text/x-python",
   "name": "python",
   "nbconvert_exporter": "python",
   "pygments_lexer": "ipython3",
   "version": "3.6.5"
  }
 },
 "nbformat": 4,
 "nbformat_minor": 4
}

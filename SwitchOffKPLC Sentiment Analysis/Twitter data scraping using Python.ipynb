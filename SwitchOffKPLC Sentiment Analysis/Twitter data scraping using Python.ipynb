{
 "cells": [
  {
   "cell_type": "markdown",
   "metadata": {},
   "source": [
    "# Twitter Sentiment Analysis and Modelling"
   ]
  },
  {
   "cell_type": "code",
   "execution_count": null,
   "metadata": {},
   "outputs": [],
   "source": []
  },
  {
   "cell_type": "code",
   "execution_count": null,
   "metadata": {},
   "outputs": [],
   "source": []
  },
  {
   "cell_type": "code",
   "execution_count": 29,
   "metadata": {},
   "outputs": [],
   "source": [
    "from nltk.corpus import stopwords\n",
    "from textblob import TextBlob\n",
    "import numpy as np"
   ]
  },
  {
   "cell_type": "code",
   "execution_count": 286,
   "metadata": {},
   "outputs": [],
   "source": [
    "\n",
    "#Import Libaries\n",
    "import json\n",
    "import csv\n",
    "import tweepy as tw\n",
    "import re\n",
    "import pandas as pd"
   ]
  },
  {
   "cell_type": "code",
   "execution_count": 287,
   "metadata": {},
   "outputs": [],
   "source": [
    "access_token = \"1033758126699364353-x3BuGV7xyqRDzFGavUH6OeCj0WpsUS\"\n",
    "access_secret = \"sZWdviYTFuVENnNvcWEyk2G34pEcMt8zdkvGhblQcLSl4\"\n",
    "consumer_key = \"NJjaAZwo1ebDZWHTuYFv7PobW\"\n",
    "consumer_secret = \"QHQUEYmDoiBMqk0PitkUl2BxbAKp2XEsrVpvKtmgEYr4ZlXkph\"\n",
    "auth = tw.OAuthHandler(consumer_key, consumer_secret)\n",
    "auth.set_access_token(access_token, access_secret)\n",
    "api = tw.API(auth, wait_on_rate_limit=True)"
   ]
  },
  {
   "cell_type": "code",
   "execution_count": 288,
   "metadata": {},
   "outputs": [],
   "source": [
    "#Extract tweets with the hashtag #Sex4Grades\n",
    "msgs = []\n",
    "msg =[]\n",
    "\n",
    "for tweet in tweepy.Cursor(api.search, q='#SwitchOffKPLC', rpp=100).items(4000):\n",
    "    msg = [tweet.created_at, tweet.text, tweet.lang, tweet.user.location, tweet.user.verified, tweet.source, tweet.retweet_count, tweet.favorite_count] \n",
    "    msg = tuple(msg)                    \n",
    "    msgs.append(msg)\n",
    "\n",
    "df = pd.DataFrame(msgs)"
   ]
  },
  {
   "cell_type": "code",
   "execution_count": 289,
   "metadata": {},
   "outputs": [
    {
     "data": {
      "text/html": [
       "<div>\n",
       "<style scoped>\n",
       "    .dataframe tbody tr th:only-of-type {\n",
       "        vertical-align: middle;\n",
       "    }\n",
       "\n",
       "    .dataframe tbody tr th {\n",
       "        vertical-align: top;\n",
       "    }\n",
       "\n",
       "    .dataframe thead th {\n",
       "        text-align: right;\n",
       "    }\n",
       "</style>\n",
       "<table border=\"1\" class=\"dataframe\">\n",
       "  <thead>\n",
       "    <tr style=\"text-align: right;\">\n",
       "      <th></th>\n",
       "      <th>0</th>\n",
       "      <th>1</th>\n",
       "      <th>2</th>\n",
       "      <th>3</th>\n",
       "      <th>4</th>\n",
       "      <th>5</th>\n",
       "      <th>6</th>\n",
       "      <th>7</th>\n",
       "    </tr>\n",
       "  </thead>\n",
       "  <tbody>\n",
       "    <tr>\n",
       "      <th>0</th>\n",
       "      <td>2019-10-15 06:24:10</td>\n",
       "      <td>RT @JerotichSeii: That you be switched off.\\n\\...</td>\n",
       "      <td>en</td>\n",
       "      <td>TinkerBellLand</td>\n",
       "      <td>False</td>\n",
       "      <td>Twitter Web App</td>\n",
       "      <td>119</td>\n",
       "      <td>0</td>\n",
       "    </tr>\n",
       "    <tr>\n",
       "      <th>1</th>\n",
       "      <td>2019-10-15 04:08:22</td>\n",
       "      <td>UK renewables generate more electricity than f...</td>\n",
       "      <td>en</td>\n",
       "      <td></td>\n",
       "      <td>False</td>\n",
       "      <td>Twitter for Android</td>\n",
       "      <td>0</td>\n",
       "      <td>1</td>\n",
       "    </tr>\n",
       "    <tr>\n",
       "      <th>2</th>\n",
       "      <td>2019-10-14 18:00:17</td>\n",
       "      <td>Jameni @KenyaPower #SwitchOffKPLC https://t.co...</td>\n",
       "      <td>in</td>\n",
       "      <td>Nairobi</td>\n",
       "      <td>False</td>\n",
       "      <td>Twitter for Android</td>\n",
       "      <td>0</td>\n",
       "      <td>0</td>\n",
       "    </tr>\n",
       "    <tr>\n",
       "      <th>3</th>\n",
       "      <td>2019-10-13 16:29:21</td>\n",
       "      <td>@KenyaPower_Care This was not attended to. We ...</td>\n",
       "      <td>en</td>\n",
       "      <td>Nairobi, Kenya</td>\n",
       "      <td>False</td>\n",
       "      <td>Twitter for Android</td>\n",
       "      <td>0</td>\n",
       "      <td>0</td>\n",
       "    </tr>\n",
       "  </tbody>\n",
       "</table>\n",
       "</div>"
      ],
      "text/plain": [
       "                    0                                                  1   2  \\\n",
       "0 2019-10-15 06:24:10  RT @JerotichSeii: That you be switched off.\\n\\...  en   \n",
       "1 2019-10-15 04:08:22  UK renewables generate more electricity than f...  en   \n",
       "2 2019-10-14 18:00:17  Jameni @KenyaPower #SwitchOffKPLC https://t.co...  in   \n",
       "3 2019-10-13 16:29:21  @KenyaPower_Care This was not attended to. We ...  en   \n",
       "\n",
       "                3      4                    5    6  7  \n",
       "0  TinkerBellLand  False      Twitter Web App  119  0  \n",
       "1                  False  Twitter for Android    0  1  \n",
       "2         Nairobi  False  Twitter for Android    0  0  \n",
       "3  Nairobi, Kenya  False  Twitter for Android    0  0  "
      ]
     },
     "execution_count": 289,
     "metadata": {},
     "output_type": "execute_result"
    }
   ],
   "source": [
    "df.head(4)"
   ]
  },
  {
   "cell_type": "code",
   "execution_count": 290,
   "metadata": {},
   "outputs": [],
   "source": [
    "\n",
    "#export data to csv\n",
    "df.to_csv(\"#SwitchOffKPLC.csv\", index=False)"
   ]
  },
  {
   "cell_type": "code",
   "execution_count": 291,
   "metadata": {},
   "outputs": [
    {
     "data": {
      "text/plain": [
       "(634, 8)"
      ]
     },
     "execution_count": 291,
     "metadata": {},
     "output_type": "execute_result"
    }
   ],
   "source": [
    "df.shape"
   ]
  },
  {
   "cell_type": "code",
   "execution_count": 32,
   "metadata": {},
   "outputs": [],
   "source": [
    "#Import Packages\n",
    "\n",
    "from sklearn.feature_extraction.text import CountVectorizer\n",
    "import numpy as np\n",
    "import pandas as pd\n",
    "import re\n",
    "import matplotlib.pyplot as plt\n",
    "import warnings\n",
    "import nltk\n",
    "from nltk.tokenize import word_tokenize\n",
    "import string\n",
    "import seaborn as sns\n",
    "from nltk.stem.porter import * \n",
    "from wordcloud import WordCloud\n",
    "\n",
    "warnings.filterwarnings('ignore')\n",
    "%matplotlib inline"
   ]
  },
  {
   "cell_type": "code",
   "execution_count": null,
   "metadata": {},
   "outputs": [],
   "source": [
    "from sklearn.feature_extraction.text import TfidfVectorizer\n",
    "from nltk.tokenize import word_tokenize # import word_tokenize\n",
    "\n",
    "from nltk.corpus import stopwords #import stop words\n",
    "import re # import regular expression\n",
    "from nltk.tokenize import word_tokenize # import word_tokenize\n",
    "from sklearn.utils import shuffle # to shuffle the data\n",
    "import random # import random\n",
    "import sklearn # import sklearn\n",
    "from bs4 import BeautifulSoup\n",
    "from nltk.tokenize import WordPunctTokenizer\n",
    "\n",
    "from nltk.corpus import stopwords\n",
    "from nltk.classify import SklearnClassifier\n",
    "\n",
    "from wordcloud import WordCloud,STOPWORDS"
   ]
  },
  {
   "cell_type": "code",
   "execution_count": null,
   "metadata": {},
   "outputs": [],
   "source": [
    "# Scikit-learn\n",
    "from sklearn.model_selection import train_test_split\n",
    "from sklearn.preprocessing import LabelEncoder\n",
    "from sklearn.metrics import confusion_matrix, classification_report, accuracy_score\n",
    "from sklearn.manifold import TSNE\n",
    "from sklearn.feature_extraction.text import TfidfVectorizer"
   ]
  },
  {
   "cell_type": "code",
   "execution_count": 78,
   "metadata": {},
   "outputs": [
    {
     "data": {
      "text/html": [
       "<div>\n",
       "<style scoped>\n",
       "    .dataframe tbody tr th:only-of-type {\n",
       "        vertical-align: middle;\n",
       "    }\n",
       "\n",
       "    .dataframe tbody tr th {\n",
       "        vertical-align: top;\n",
       "    }\n",
       "\n",
       "    .dataframe thead th {\n",
       "        text-align: right;\n",
       "    }\n",
       "</style>\n",
       "<table border=\"1\" class=\"dataframe\">\n",
       "  <thead>\n",
       "    <tr style=\"text-align: right;\">\n",
       "      <th></th>\n",
       "      <th>0</th>\n",
       "      <th>1</th>\n",
       "      <th>2</th>\n",
       "      <th>3</th>\n",
       "      <th>4</th>\n",
       "      <th>5</th>\n",
       "      <th>6</th>\n",
       "      <th>7</th>\n",
       "    </tr>\n",
       "  </thead>\n",
       "  <tbody>\n",
       "    <tr>\n",
       "      <th>0</th>\n",
       "      <td>2019-10-15 06:24:10</td>\n",
       "      <td>RT @JerotichSeii: That you be switched off.\\n\\...</td>\n",
       "      <td>en</td>\n",
       "      <td>TinkerBellLand</td>\n",
       "      <td>False</td>\n",
       "      <td>Twitter Web App</td>\n",
       "      <td>119</td>\n",
       "      <td>0</td>\n",
       "    </tr>\n",
       "    <tr>\n",
       "      <th>1</th>\n",
       "      <td>2019-10-15 04:08:22</td>\n",
       "      <td>UK renewables generate more electricity than f...</td>\n",
       "      <td>en</td>\n",
       "      <td>NaN</td>\n",
       "      <td>False</td>\n",
       "      <td>Twitter for Android</td>\n",
       "      <td>0</td>\n",
       "      <td>1</td>\n",
       "    </tr>\n",
       "    <tr>\n",
       "      <th>2</th>\n",
       "      <td>2019-10-14 18:00:17</td>\n",
       "      <td>Jameni @KenyaPower #SwitchOffKPLC https://t.co...</td>\n",
       "      <td>in</td>\n",
       "      <td>Nairobi</td>\n",
       "      <td>False</td>\n",
       "      <td>Twitter for Android</td>\n",
       "      <td>0</td>\n",
       "      <td>0</td>\n",
       "    </tr>\n",
       "  </tbody>\n",
       "</table>\n",
       "</div>"
      ],
      "text/plain": [
       "                     0                                                  1   2  \\\n",
       "0  2019-10-15 06:24:10  RT @JerotichSeii: That you be switched off.\\n\\...  en   \n",
       "1  2019-10-15 04:08:22  UK renewables generate more electricity than f...  en   \n",
       "2  2019-10-14 18:00:17  Jameni @KenyaPower #SwitchOffKPLC https://t.co...  in   \n",
       "\n",
       "                3      4                    5    6  7  \n",
       "0  TinkerBellLand  False      Twitter Web App  119  0  \n",
       "1             NaN  False  Twitter for Android    0  1  \n",
       "2         Nairobi  False  Twitter for Android    0  0  "
      ]
     },
     "execution_count": 78,
     "metadata": {},
     "output_type": "execute_result"
    }
   ],
   "source": [
    "# Loading the Dataset\n",
    "\n",
    "dataset = pd.read_csv('#SwitchOffKPLC.csv')\n",
    "dataset.head(3)"
   ]
  },
  {
   "cell_type": "markdown",
   "metadata": {},
   "source": [
    "#### Renaming the Columns:"
   ]
  },
  {
   "cell_type": "code",
   "execution_count": 79,
   "metadata": {},
   "outputs": [],
   "source": [
    "dataset = dataset.rename(columns={'0': 'Datetime Created', '1': 'Tweet','2':'Language','3':'Location','4':'UserAccount Verified','5':'Tweet Source','6':'Retweet_count','7':'Favourite_count'})"
   ]
  },
  {
   "cell_type": "code",
   "execution_count": 80,
   "metadata": {},
   "outputs": [
    {
     "name": "stdout",
     "output_type": "stream",
     "text": [
      "Dataset size: 634\n"
     ]
    }
   ],
   "source": [
    "print(\"Dataset size:\", len(dataset))"
   ]
  },
  {
   "cell_type": "code",
   "execution_count": 6,
   "metadata": {},
   "outputs": [
    {
     "data": {
      "text/plain": [
       "False    631\n",
       "True       3\n",
       "Name: UserAccount Verified, dtype: int64"
      ]
     },
     "execution_count": 6,
     "metadata": {},
     "output_type": "execute_result"
    }
   ],
   "source": [
    "\n",
    "dataset['UserAccount Verified'].value_counts()\n"
   ]
  },
  {
   "cell_type": "code",
   "execution_count": 7,
   "metadata": {},
   "outputs": [
    {
     "name": "stdout",
     "output_type": "stream",
     "text": [
      "Dataset size: (634, 8)\n",
      "Columns are: Index(['Datetime Created', 'Tweet', 'Language', 'Location',\n",
      "       'UserAccount Verified', 'Tweet Source', 'Retweet_count',\n",
      "       'Favourite_count'],\n",
      "      dtype='object')\n"
     ]
    }
   ],
   "source": [
    "print('Dataset size:',dataset.shape)\n",
    "print('Columns are:',dataset.columns)"
   ]
  },
  {
   "cell_type": "code",
   "execution_count": 8,
   "metadata": {},
   "outputs": [
    {
     "name": "stdout",
     "output_type": "stream",
     "text": [
      "<class 'pandas.core.frame.DataFrame'>\n",
      "RangeIndex: 634 entries, 0 to 633\n",
      "Data columns (total 8 columns):\n",
      "Datetime Created        634 non-null object\n",
      "Tweet                   634 non-null object\n",
      "Language                634 non-null object\n",
      "Location                404 non-null object\n",
      "UserAccount Verified    634 non-null bool\n",
      "Tweet Source            634 non-null object\n",
      "Retweet_count           634 non-null int64\n",
      "Favourite_count         634 non-null int64\n",
      "dtypes: bool(1), int64(2), object(5)\n",
      "memory usage: 35.4+ KB\n"
     ]
    }
   ],
   "source": [
    "dataset.info()"
   ]
  },
  {
   "cell_type": "code",
   "execution_count": 81,
   "metadata": {},
   "outputs": [
    {
     "data": {
      "text/html": [
       "<div>\n",
       "<style scoped>\n",
       "    .dataframe tbody tr th:only-of-type {\n",
       "        vertical-align: middle;\n",
       "    }\n",
       "\n",
       "    .dataframe tbody tr th {\n",
       "        vertical-align: top;\n",
       "    }\n",
       "\n",
       "    .dataframe thead th {\n",
       "        text-align: right;\n",
       "    }\n",
       "</style>\n",
       "<table border=\"1\" class=\"dataframe\">\n",
       "  <thead>\n",
       "    <tr style=\"text-align: right;\">\n",
       "      <th></th>\n",
       "      <th>Datetime Created</th>\n",
       "      <th>Tweet</th>\n",
       "      <th>Language</th>\n",
       "      <th>Location</th>\n",
       "      <th>UserAccount Verified</th>\n",
       "      <th>Tweet Source</th>\n",
       "      <th>Retweet_count</th>\n",
       "      <th>Favourite_count</th>\n",
       "    </tr>\n",
       "  </thead>\n",
       "  <tbody>\n",
       "    <tr>\n",
       "      <th>0</th>\n",
       "      <td>2019-10-15 06:24:10</td>\n",
       "      <td>RT @JerotichSeii: That you be switched off.\\n\\...</td>\n",
       "      <td>en</td>\n",
       "      <td>TinkerBellLand</td>\n",
       "      <td>False</td>\n",
       "      <td>Twitter Web App</td>\n",
       "      <td>119</td>\n",
       "      <td>0</td>\n",
       "    </tr>\n",
       "    <tr>\n",
       "      <th>1</th>\n",
       "      <td>2019-10-15 04:08:22</td>\n",
       "      <td>UK renewables generate more electricity than f...</td>\n",
       "      <td>en</td>\n",
       "      <td>NaN</td>\n",
       "      <td>False</td>\n",
       "      <td>Twitter for Android</td>\n",
       "      <td>0</td>\n",
       "      <td>1</td>\n",
       "    </tr>\n",
       "    <tr>\n",
       "      <th>2</th>\n",
       "      <td>2019-10-14 18:00:17</td>\n",
       "      <td>Jameni @KenyaPower #SwitchOffKPLC https://t.co...</td>\n",
       "      <td>in</td>\n",
       "      <td>Nairobi</td>\n",
       "      <td>False</td>\n",
       "      <td>Twitter for Android</td>\n",
       "      <td>0</td>\n",
       "      <td>0</td>\n",
       "    </tr>\n",
       "  </tbody>\n",
       "</table>\n",
       "</div>"
      ],
      "text/plain": [
       "      Datetime Created                                              Tweet  \\\n",
       "0  2019-10-15 06:24:10  RT @JerotichSeii: That you be switched off.\\n\\...   \n",
       "1  2019-10-15 04:08:22  UK renewables generate more electricity than f...   \n",
       "2  2019-10-14 18:00:17  Jameni @KenyaPower #SwitchOffKPLC https://t.co...   \n",
       "\n",
       "  Language        Location  UserAccount Verified         Tweet Source  \\\n",
       "0       en  TinkerBellLand                 False      Twitter Web App   \n",
       "1       en             NaN                 False  Twitter for Android   \n",
       "2       in         Nairobi                 False  Twitter for Android   \n",
       "\n",
       "   Retweet_count  Favourite_count  \n",
       "0            119                0  \n",
       "1              0                1  \n",
       "2              0                0  "
      ]
     },
     "execution_count": 81,
     "metadata": {},
     "output_type": "execute_result"
    }
   ],
   "source": [
    "dataset.head(3)"
   ]
  },
  {
   "cell_type": "code",
   "execution_count": 10,
   "metadata": {},
   "outputs": [
    {
     "data": {
      "text/plain": [
       "Datetime Created        object\n",
       "Tweet                   object\n",
       "Language                object\n",
       "Location                object\n",
       "UserAccount Verified      bool\n",
       "Tweet Source            object\n",
       "Retweet_count            int64\n",
       "Favourite_count          int64\n",
       "dtype: object"
      ]
     },
     "execution_count": 10,
     "metadata": {},
     "output_type": "execute_result"
    }
   ],
   "source": [
    "dataset.dtypes"
   ]
  },
  {
   "cell_type": "code",
   "execution_count": 11,
   "metadata": {},
   "outputs": [
    {
     "data": {
      "text/plain": [
       "<matplotlib.axes._subplots.AxesSubplot at 0x7f072c66b048>"
      ]
     },
     "execution_count": 11,
     "metadata": {},
     "output_type": "execute_result"
    },
    {
     "data": {
      "image/png": "[encoded data removed]",
      "text/plain": [
       "<Figure size 432x288 with 1 Axes>"
      ]
     },
     "metadata": {},
     "output_type": "display_data"
    }
   ],
   "source": [
    "sns.countplot(x = 'UserAccount Verified', data = dataset)"
   ]
  },
  {
   "cell_type": "code",
   "execution_count": null,
   "metadata": {},
   "outputs": [],
   "source": []
  },
  {
   "cell_type": "markdown",
   "metadata": {},
   "source": [
    "## Data Preprocessing"
   ]
  },
  {
   "cell_type": "markdown",
   "metadata": {},
   "source": [
    "## Decoding the Date Time Column"
   ]
  },
  {
   "cell_type": "code",
   "execution_count": 82,
   "metadata": {},
   "outputs": [],
   "source": [
    "from datetime import date"
   ]
  },
  {
   "cell_type": "code",
   "execution_count": 83,
   "metadata": {},
   "outputs": [],
   "source": [
    "dataset['Datetime Created'] = pd.to_datetime(dataset['Datetime Created'])"
   ]
  },
  {
   "cell_type": "code",
   "execution_count": 84,
   "metadata": {},
   "outputs": [],
   "source": [
    "dataset['Year'] = dataset['Datetime Created'].dt.year\n",
    "dataset['Week of the Year'] = dataset['Datetime Created'].dt.weekofyear\n",
    "dataset['Day of the Year'] = dataset['Datetime Created'].dt.dayofyear\n",
    "dataset['Month_name'] = dataset['Datetime Created'].dt.month_name()\n",
    "dataset['Day of the Week'] = dataset['Datetime Created'].dt.weekday\n",
    "dataset['Name of the Day'] = dataset['Datetime Created'].dt.day_name()\n",
    "dataset['Hour'] = dataset['Datetime Created'].dt.hour\n",
    "dataset['Minute'] = dataset['Datetime Created'].dt.minute\n",
    "\n"
   ]
  },
  {
   "cell_type": "code",
   "execution_count": 85,
   "metadata": {},
   "outputs": [
    {
     "data": {
      "text/html": [
       "<div>\n",
       "<style scoped>\n",
       "    .dataframe tbody tr th:only-of-type {\n",
       "        vertical-align: middle;\n",
       "    }\n",
       "\n",
       "    .dataframe tbody tr th {\n",
       "        vertical-align: top;\n",
       "    }\n",
       "\n",
       "    .dataframe thead th {\n",
       "        text-align: right;\n",
       "    }\n",
       "</style>\n",
       "<table border=\"1\" class=\"dataframe\">\n",
       "  <thead>\n",
       "    <tr style=\"text-align: right;\">\n",
       "      <th></th>\n",
       "      <th>Datetime Created</th>\n",
       "      <th>Tweet</th>\n",
       "      <th>Language</th>\n",
       "      <th>Location</th>\n",
       "      <th>UserAccount Verified</th>\n",
       "      <th>Tweet Source</th>\n",
       "      <th>Retweet_count</th>\n",
       "      <th>Favourite_count</th>\n",
       "      <th>Year</th>\n",
       "      <th>Week of the Year</th>\n",
       "      <th>Day of the Year</th>\n",
       "      <th>Month_name</th>\n",
       "      <th>Day of the Week</th>\n",
       "      <th>Name of the Day</th>\n",
       "      <th>Hour</th>\n",
       "      <th>Minute</th>\n",
       "    </tr>\n",
       "  </thead>\n",
       "  <tbody>\n",
       "    <tr>\n",
       "      <th>0</th>\n",
       "      <td>2019-10-15 06:24:10</td>\n",
       "      <td>RT @JerotichSeii: That you be switched off.\\n\\...</td>\n",
       "      <td>en</td>\n",
       "      <td>TinkerBellLand</td>\n",
       "      <td>False</td>\n",
       "      <td>Twitter Web App</td>\n",
       "      <td>119</td>\n",
       "      <td>0</td>\n",
       "      <td>2019</td>\n",
       "      <td>42</td>\n",
       "      <td>288</td>\n",
       "      <td>October</td>\n",
       "      <td>1</td>\n",
       "      <td>Tuesday</td>\n",
       "      <td>6</td>\n",
       "      <td>24</td>\n",
       "    </tr>\n",
       "    <tr>\n",
       "      <th>1</th>\n",
       "      <td>2019-10-15 04:08:22</td>\n",
       "      <td>UK renewables generate more electricity than f...</td>\n",
       "      <td>en</td>\n",
       "      <td>NaN</td>\n",
       "      <td>False</td>\n",
       "      <td>Twitter for Android</td>\n",
       "      <td>0</td>\n",
       "      <td>1</td>\n",
       "      <td>2019</td>\n",
       "      <td>42</td>\n",
       "      <td>288</td>\n",
       "      <td>October</td>\n",
       "      <td>1</td>\n",
       "      <td>Tuesday</td>\n",
       "      <td>4</td>\n",
       "      <td>8</td>\n",
       "    </tr>\n",
       "    <tr>\n",
       "      <th>2</th>\n",
       "      <td>2019-10-14 18:00:17</td>\n",
       "      <td>Jameni @KenyaPower #SwitchOffKPLC https://t.co...</td>\n",
       "      <td>in</td>\n",
       "      <td>Nairobi</td>\n",
       "      <td>False</td>\n",
       "      <td>Twitter for Android</td>\n",
       "      <td>0</td>\n",
       "      <td>0</td>\n",
       "      <td>2019</td>\n",
       "      <td>42</td>\n",
       "      <td>287</td>\n",
       "      <td>October</td>\n",
       "      <td>0</td>\n",
       "      <td>Monday</td>\n",
       "      <td>18</td>\n",
       "      <td>0</td>\n",
       "    </tr>\n",
       "  </tbody>\n",
       "</table>\n",
       "</div>"
      ],
      "text/plain": [
       "     Datetime Created                                              Tweet  \\\n",
       "0 2019-10-15 06:24:10  RT @JerotichSeii: That you be switched off.\\n\\...   \n",
       "1 2019-10-15 04:08:22  UK renewables generate more electricity than f...   \n",
       "2 2019-10-14 18:00:17  Jameni @KenyaPower #SwitchOffKPLC https://t.co...   \n",
       "\n",
       "  Language        Location  UserAccount Verified         Tweet Source  \\\n",
       "0       en  TinkerBellLand                 False      Twitter Web App   \n",
       "1       en             NaN                 False  Twitter for Android   \n",
       "2       in         Nairobi                 False  Twitter for Android   \n",
       "\n",
       "   Retweet_count  Favourite_count  Year  Week of the Year  Day of the Year  \\\n",
       "0            119                0  2019                42              288   \n",
       "1              0                1  2019                42              288   \n",
       "2              0                0  2019                42              287   \n",
       "\n",
       "  Month_name  Day of the Week Name of the Day  Hour  Minute  \n",
       "0    October                1         Tuesday     6      24  \n",
       "1    October                1         Tuesday     4       8  \n",
       "2    October                0          Monday    18       0  "
      ]
     },
     "execution_count": 85,
     "metadata": {},
     "output_type": "execute_result"
    }
   ],
   "source": [
    "dataset.head(3)"
   ]
  },
  {
   "cell_type": "markdown",
   "metadata": {},
   "source": [
    "#### Correlation Plot Visualization of the Day of the Week Tweets Distribution"
   ]
  },
  {
   "cell_type": "code",
   "execution_count": 16,
   "metadata": {},
   "outputs": [
    {
     "data": {
      "image/png": "[encoded data removed]",
      "text/plain": [
       "<Figure size 1440x360 with 1 Axes>"
      ]
     },
     "metadata": {},
     "output_type": "display_data"
    }
   ],
   "source": [
    "\n",
    "sns.set(rc={'figure.figsize':(20,5)})\n",
    "sns.barplot(x=dataset['Name of the Day'],y=dataset['Day of the Week']);"
   ]
  },
  {
   "cell_type": "code",
   "execution_count": 17,
   "metadata": {},
   "outputs": [
    {
     "data": {
      "text/plain": [
       "<matplotlib.axes._subplots.AxesSubplot at 0x7f072c2bda90>"
      ]
     },
     "execution_count": 17,
     "metadata": {},
     "output_type": "execute_result"
    },
    {
     "data": {
      "image/png": "[encoded data removed]",
      "text/plain": [
       "<Figure size 1152x576 with 1 Axes>"
      ]
     },
     "metadata": {},
     "output_type": "display_data"
    }
   ],
   "source": [
    "plt.figure(figsize=(16,8))\n",
    "sns.boxplot(x='Name of the Day',y='Day of the Week', hue='Hour',data=dataset)"
   ]
  },
  {
   "cell_type": "markdown",
   "metadata": {},
   "source": [
    "### Plotting of the Hour of Tweeting Vs the Day of the Week"
   ]
  },
  {
   "cell_type": "code",
   "execution_count": 18,
   "metadata": {},
   "outputs": [
    {
     "data": {
      "text/plain": [
       "<matplotlib.axes._subplots.AxesSubplot at 0x7f0728685438>"
      ]
     },
     "execution_count": 18,
     "metadata": {},
     "output_type": "execute_result"
    },
    {
     "data": {
      "image/png": "[encoded data removed]",
      "text/plain": [
       "<Figure size 1152x576 with 1 Axes>"
      ]
     },
     "metadata": {},
     "output_type": "display_data"
    }
   ],
   "source": [
    "plt.figure(figsize=(16,8))\n",
    "sns.boxplot(x='Hour',y='Day of the Week', data=dataset)"
   ]
  },
  {
   "cell_type": "markdown",
   "metadata": {},
   "source": [
    "### Plotting of the Minutes of Tweeting Vs the Day of the Week"
   ]
  },
  {
   "cell_type": "code",
   "execution_count": 19,
   "metadata": {},
   "outputs": [
    {
     "data": {
      "text/plain": [
       "<matplotlib.axes._subplots.AxesSubplot at 0x7f0728175dd8>"
      ]
     },
     "execution_count": 19,
     "metadata": {},
     "output_type": "execute_result"
    },
    {
     "data": {
      "image/png": "[encoded data removed]",
      "text/plain": [
       "<Figure size 1152x576 with 1 Axes>"
      ]
     },
     "metadata": {},
     "output_type": "display_data"
    }
   ],
   "source": [
    "plt.figure(figsize=(16,8))\n",
    "sns.boxplot(x='Minute',y='Day of the Week', data=dataset)"
   ]
  },
  {
   "cell_type": "code",
   "execution_count": 310,
   "metadata": {},
   "outputs": [
    {
     "data": {
      "text/plain": [
       "<seaborn.axisgrid.FacetGrid at 0x7f8782af8dd8>"
      ]
     },
     "execution_count": 310,
     "metadata": {},
     "output_type": "execute_result"
    },
    {
     "data": {
      "image/png": "[encoded data removed]",
      "text/plain": [
       "<Figure size 1080x720 with 1 Axes>"
      ]
     },
     "metadata": {},
     "output_type": "display_data"
    }
   ],
   "source": [
    "# with hour.\n",
    "sns.factorplot(x=\"Location\",y=\"Hour\",data=dataset,kind='bar',size=10,aspect=1.5)"
   ]
  },
  {
   "cell_type": "markdown",
   "metadata": {},
   "source": [
    "## Detecting and Treating Missing Values"
   ]
  },
  {
   "cell_type": "code",
   "execution_count": 22,
   "metadata": {},
   "outputs": [
    {
     "data": {
      "text/html": [
       "<div>\n",
       "<style scoped>\n",
       "    .dataframe tbody tr th:only-of-type {\n",
       "        vertical-align: middle;\n",
       "    }\n",
       "\n",
       "    .dataframe tbody tr th {\n",
       "        vertical-align: top;\n",
       "    }\n",
       "\n",
       "    .dataframe thead th {\n",
       "        text-align: right;\n",
       "    }\n",
       "</style>\n",
       "<table border=\"1\" class=\"dataframe\">\n",
       "  <thead>\n",
       "    <tr style=\"text-align: right;\">\n",
       "      <th></th>\n",
       "      <th>Total</th>\n",
       "      <th>Percent</th>\n",
       "    </tr>\n",
       "  </thead>\n",
       "  <tbody>\n",
       "    <tr>\n",
       "      <th>Location</th>\n",
       "      <td>230</td>\n",
       "      <td>0.362776</td>\n",
       "    </tr>\n",
       "    <tr>\n",
       "      <th>Minute</th>\n",
       "      <td>0</td>\n",
       "      <td>0.000000</td>\n",
       "    </tr>\n",
       "    <tr>\n",
       "      <th>Hour</th>\n",
       "      <td>0</td>\n",
       "      <td>0.000000</td>\n",
       "    </tr>\n",
       "    <tr>\n",
       "      <th>Name of the Day</th>\n",
       "      <td>0</td>\n",
       "      <td>0.000000</td>\n",
       "    </tr>\n",
       "    <tr>\n",
       "      <th>Day of the Week</th>\n",
       "      <td>0</td>\n",
       "      <td>0.000000</td>\n",
       "    </tr>\n",
       "  </tbody>\n",
       "</table>\n",
       "</div>"
      ],
      "text/plain": [
       "                 Total   Percent\n",
       "Location           230  0.362776\n",
       "Minute               0  0.000000\n",
       "Hour                 0  0.000000\n",
       "Name of the Day      0  0.000000\n",
       "Day of the Week      0  0.000000"
      ]
     },
     "execution_count": 22,
     "metadata": {},
     "output_type": "execute_result"
    },
    {
     "data": {
      "image/png": "[encoded data removed]",
      "text/plain": [
       "<Figure size 1080x432 with 1 Axes>"
      ]
     },
     "metadata": {},
     "output_type": "display_data"
    }
   ],
   "source": [
    "total = dataset.isnull().sum().sort_values(ascending=False)\n",
    "percent = (dataset.isnull().sum()/dataset.isnull().count()).sort_values(ascending=False)\n",
    "missing_data = pd.concat([total, percent], axis=1, keys=['Total', 'Percent'])\n",
    "f, ax = plt.subplots(figsize=(15, 6))\n",
    "plt.xticks(rotation='90')\n",
    "sns.barplot(x=missing_data.index, y=missing_data['Percent'])\n",
    "plt.xlabel('Features', fontsize=15)\n",
    "plt.ylabel('Percentage of Missing Feature ', fontsize=15)\n",
    "plt.title('Percentage Distribution of the Missing Data by Feature', fontsize=15)\n",
    "missing_data.head()"
   ]
  },
  {
   "cell_type": "code",
   "execution_count": 37,
   "metadata": {},
   "outputs": [
    {
     "data": {
      "text/html": [
       "<div>\n",
       "<style scoped>\n",
       "    .dataframe tbody tr th:only-of-type {\n",
       "        vertical-align: middle;\n",
       "    }\n",
       "\n",
       "    .dataframe tbody tr th {\n",
       "        vertical-align: top;\n",
       "    }\n",
       "\n",
       "    .dataframe thead th {\n",
       "        text-align: right;\n",
       "    }\n",
       "</style>\n",
       "<table border=\"1\" class=\"dataframe\">\n",
       "  <thead>\n",
       "    <tr style=\"text-align: right;\">\n",
       "      <th></th>\n",
       "      <th>Column Name</th>\n",
       "      <th>Missing Values Count</th>\n",
       "      <th>Filling Factor (%)</th>\n",
       "    </tr>\n",
       "  </thead>\n",
       "  <tbody>\n",
       "    <tr>\n",
       "      <th>0</th>\n",
       "      <td>Location</td>\n",
       "      <td>230</td>\n",
       "      <td>63.722397</td>\n",
       "    </tr>\n",
       "    <tr>\n",
       "      <th>1</th>\n",
       "      <td>Datetime Created</td>\n",
       "      <td>0</td>\n",
       "      <td>100.000000</td>\n",
       "    </tr>\n",
       "    <tr>\n",
       "      <th>2</th>\n",
       "      <td>Tweet</td>\n",
       "      <td>0</td>\n",
       "      <td>100.000000</td>\n",
       "    </tr>\n",
       "    <tr>\n",
       "      <th>3</th>\n",
       "      <td>Language</td>\n",
       "      <td>0</td>\n",
       "      <td>100.000000</td>\n",
       "    </tr>\n",
       "    <tr>\n",
       "      <th>4</th>\n",
       "      <td>UserAccount Verified</td>\n",
       "      <td>0</td>\n",
       "      <td>100.000000</td>\n",
       "    </tr>\n",
       "    <tr>\n",
       "      <th>5</th>\n",
       "      <td>Tweet Source</td>\n",
       "      <td>0</td>\n",
       "      <td>100.000000</td>\n",
       "    </tr>\n",
       "    <tr>\n",
       "      <th>6</th>\n",
       "      <td>Retweet_count</td>\n",
       "      <td>0</td>\n",
       "      <td>100.000000</td>\n",
       "    </tr>\n",
       "    <tr>\n",
       "      <th>7</th>\n",
       "      <td>Favourite_count</td>\n",
       "      <td>0</td>\n",
       "      <td>100.000000</td>\n",
       "    </tr>\n",
       "    <tr>\n",
       "      <th>8</th>\n",
       "      <td>Year</td>\n",
       "      <td>0</td>\n",
       "      <td>100.000000</td>\n",
       "    </tr>\n",
       "    <tr>\n",
       "      <th>9</th>\n",
       "      <td>Week of the Year</td>\n",
       "      <td>0</td>\n",
       "      <td>100.000000</td>\n",
       "    </tr>\n",
       "    <tr>\n",
       "      <th>10</th>\n",
       "      <td>Day of the Year</td>\n",
       "      <td>0</td>\n",
       "      <td>100.000000</td>\n",
       "    </tr>\n",
       "    <tr>\n",
       "      <th>11</th>\n",
       "      <td>Month_name</td>\n",
       "      <td>0</td>\n",
       "      <td>100.000000</td>\n",
       "    </tr>\n",
       "    <tr>\n",
       "      <th>12</th>\n",
       "      <td>Day of the Week</td>\n",
       "      <td>0</td>\n",
       "      <td>100.000000</td>\n",
       "    </tr>\n",
       "    <tr>\n",
       "      <th>13</th>\n",
       "      <td>Name of the Day</td>\n",
       "      <td>0</td>\n",
       "      <td>100.000000</td>\n",
       "    </tr>\n",
       "    <tr>\n",
       "      <th>14</th>\n",
       "      <td>Hour</td>\n",
       "      <td>0</td>\n",
       "      <td>100.000000</td>\n",
       "    </tr>\n",
       "    <tr>\n",
       "      <th>15</th>\n",
       "      <td>Minute</td>\n",
       "      <td>0</td>\n",
       "      <td>100.000000</td>\n",
       "    </tr>\n",
       "  </tbody>\n",
       "</table>\n",
       "</div>"
      ],
      "text/plain": [
       "             Column Name  Missing Values Count  Filling Factor (%)\n",
       "0               Location                   230           63.722397\n",
       "1       Datetime Created                     0          100.000000\n",
       "2                  Tweet                     0          100.000000\n",
       "3               Language                     0          100.000000\n",
       "4   UserAccount Verified                     0          100.000000\n",
       "5           Tweet Source                     0          100.000000\n",
       "6          Retweet_count                     0          100.000000\n",
       "7        Favourite_count                     0          100.000000\n",
       "8                   Year                     0          100.000000\n",
       "9       Week of the Year                     0          100.000000\n",
       "10       Day of the Year                     0          100.000000\n",
       "11            Month_name                     0          100.000000\n",
       "12       Day of the Week                     0          100.000000\n",
       "13       Name of the Day                     0          100.000000\n",
       "14                  Hour                     0          100.000000\n",
       "15                Minute                     0          100.000000"
      ]
     },
     "execution_count": 37,
     "metadata": {},
     "output_type": "execute_result"
    }
   ],
   "source": [
    "# Checking the missing values\n",
    "\n",
    "missing_df =dataset.isnull().sum(axis=0).reset_index()\n",
    "missing_df.columns = ['Column Name', 'Missing Values Count']\n",
    "missing_df['Filling Factor (%)']=(dataset.shape[0]-missing_df['Missing Values Count'])/dataset.shape[0]*100\n",
    "missing_df.sort_values('Filling Factor (%)').reset_index(drop = True)"
   ]
  },
  {
   "cell_type": "markdown",
   "metadata": {},
   "source": [
    "#### Treating the Missing Value"
   ]
  },
  {
   "cell_type": "code",
   "execution_count": 46,
   "metadata": {},
   "outputs": [
    {
     "data": {
      "text/plain": [
       "0    Nairobi, Kenya\n",
       "dtype: object"
      ]
     },
     "execution_count": 46,
     "metadata": {},
     "output_type": "execute_result"
    }
   ],
   "source": [
    "dataset['Location'].mode()"
   ]
  },
  {
   "cell_type": "code",
   "execution_count": 47,
   "metadata": {},
   "outputs": [],
   "source": [
    "# Filling the missing values in Embarked with S\n",
    "\n",
    "dataset['Location'] = dataset['Location'].fillna('Nairobi, Kenya')"
   ]
  },
  {
   "cell_type": "code",
   "execution_count": 35,
   "metadata": {},
   "outputs": [],
   "source": [
    "df4 = dataset\n",
    "df4['Location'].fillna(df4['Location'].mode(),inplace=True)"
   ]
  },
  {
   "cell_type": "code",
   "execution_count": 52,
   "metadata": {},
   "outputs": [
    {
     "data": {
      "text/html": [
       "<div>\n",
       "<style scoped>\n",
       "    .dataframe tbody tr th:only-of-type {\n",
       "        vertical-align: middle;\n",
       "    }\n",
       "\n",
       "    .dataframe tbody tr th {\n",
       "        vertical-align: top;\n",
       "    }\n",
       "\n",
       "    .dataframe thead th {\n",
       "        text-align: right;\n",
       "    }\n",
       "</style>\n",
       "<table border=\"1\" class=\"dataframe\">\n",
       "  <thead>\n",
       "    <tr style=\"text-align: right;\">\n",
       "      <th></th>\n",
       "      <th>Datetime Created</th>\n",
       "      <th>Tweet</th>\n",
       "      <th>Language</th>\n",
       "      <th>Location</th>\n",
       "      <th>UserAccount Verified</th>\n",
       "      <th>Tweet Source</th>\n",
       "      <th>Retweet_count</th>\n",
       "      <th>Favourite_count</th>\n",
       "      <th>Year</th>\n",
       "      <th>Week of the Year</th>\n",
       "      <th>Day of the Year</th>\n",
       "      <th>Month_name</th>\n",
       "      <th>Day of the Week</th>\n",
       "      <th>Name of the Day</th>\n",
       "      <th>Hour</th>\n",
       "      <th>Minute</th>\n",
       "    </tr>\n",
       "  </thead>\n",
       "  <tbody>\n",
       "    <tr>\n",
       "      <th>0</th>\n",
       "      <td>2019-10-15 06:24:10</td>\n",
       "      <td>RT @JerotichSeii: That you be switched off.\\n\\...</td>\n",
       "      <td>en</td>\n",
       "      <td>TinkerBellLand</td>\n",
       "      <td>False</td>\n",
       "      <td>Twitter Web App</td>\n",
       "      <td>119</td>\n",
       "      <td>0</td>\n",
       "      <td>2019</td>\n",
       "      <td>42</td>\n",
       "      <td>288</td>\n",
       "      <td>October</td>\n",
       "      <td>1</td>\n",
       "      <td>Tuesday</td>\n",
       "      <td>6</td>\n",
       "      <td>24</td>\n",
       "    </tr>\n",
       "    <tr>\n",
       "      <th>1</th>\n",
       "      <td>2019-10-15 04:08:22</td>\n",
       "      <td>UK renewables generate more electricity than f...</td>\n",
       "      <td>en</td>\n",
       "      <td>Nairobi, Kenya</td>\n",
       "      <td>False</td>\n",
       "      <td>Twitter for Android</td>\n",
       "      <td>0</td>\n",
       "      <td>1</td>\n",
       "      <td>2019</td>\n",
       "      <td>42</td>\n",
       "      <td>288</td>\n",
       "      <td>October</td>\n",
       "      <td>1</td>\n",
       "      <td>Tuesday</td>\n",
       "      <td>4</td>\n",
       "      <td>8</td>\n",
       "    </tr>\n",
       "  </tbody>\n",
       "</table>\n",
       "</div>"
      ],
      "text/plain": [
       "     Datetime Created                                              Tweet  \\\n",
       "0 2019-10-15 06:24:10  RT @JerotichSeii: That you be switched off.\\n\\...   \n",
       "1 2019-10-15 04:08:22  UK renewables generate more electricity than f...   \n",
       "\n",
       "  Language        Location  UserAccount Verified         Tweet Source  \\\n",
       "0       en  TinkerBellLand                 False      Twitter Web App   \n",
       "1       en  Nairobi, Kenya                 False  Twitter for Android   \n",
       "\n",
       "   Retweet_count  Favourite_count  Year  Week of the Year  Day of the Year  \\\n",
       "0            119                0  2019                42              288   \n",
       "1              0                1  2019                42              288   \n",
       "\n",
       "  Month_name  Day of the Week Name of the Day  Hour  Minute  \n",
       "0    October                1         Tuesday     6      24  \n",
       "1    October                1         Tuesday     4       8  "
      ]
     },
     "execution_count": 52,
     "metadata": {},
     "output_type": "execute_result"
    }
   ],
   "source": [
    "data_cat=dataset\n",
    "data_cat['Location'].fillna(data_cat['Location'].mode()[0], inplace=True)\n",
    "data_cat.head(2)"
   ]
  },
  {
   "cell_type": "code",
   "execution_count": 50,
   "metadata": {},
   "outputs": [
    {
     "data": {
      "text/plain": [
       "Nairobi, Kenya                    336\n",
       "Kenya                              58\n",
       "Nairobi                            49\n",
       "Nairobi,Kenya                      16\n",
       "#AmKenyan                          12\n",
       "Mombasa, Kenya                     10\n",
       "kenya                               9\n",
       "Global                              9\n",
       "ID USA I Kenya | Nigeria            6\n",
       "World                               5\n",
       "nairobi                             4\n",
       "Nairobi Kenya                       4\n",
       "worldwide                           4\n",
       "Africa                              4\n",
       "+254                                4\n",
       "Planet Earth                        3\n",
       "Kabimoi, Kenya                      3\n",
       "Nyali, Kenya                        3\n",
       "1.2921° S, 36.8219° E               3\n",
       "country with a Rail to nowhere      3\n",
       "NAIROBI, KENYA                      3\n",
       "nairobi kenya                       3\n",
       "Owewo City, Luhano Market           3\n",
       "Eldoret, Kenya                      3\n",
       "nairobi 🇰🇪                          2\n",
       "Zootropolis                         2\n",
       "Republic of Kenya                   2\n",
       "Nairobi,Kenya.                      2\n",
       "Omnipresent                         2\n",
       "Kajiado, Kenya                      2\n",
       "                                 ... \n",
       "Rugmunchistan                       1\n",
       "Kiambu, Kenya                       1\n",
       "a stadium near you                  1\n",
       "Nostalgia                           1\n",
       "Loitokitok                          1\n",
       "Kenya🇰🇰🇪🇪                           1\n",
       "Nairobi                             1\n",
       "Thika Kenya                         1\n",
       "Kitale, Kenya                       1\n",
       "Machakos, Kenya                     1\n",
       "Kahawa West                         1\n",
       "Nairobi , Kenya                     1\n",
       "somewhere in the +254...            1\n",
       "📌                                   1\n",
       "🇰🇪                                  1\n",
       "Riga                                1\n",
       "Wandsworth, London                  1\n",
       "Flea Bottom                         1\n",
       "joreburn No. 254, paskatchewan      1\n",
       "Right here!                         1\n",
       "kenya                               1\n",
       "Kisumu                              1\n",
       "Kampala                             1\n",
       "namanga                             1\n",
       "Ephesians 6:12                      1\n",
       "nairobi ; kenya                     1\n",
       "Online                              1\n",
       "Nairobi, Kenya.                     1\n",
       "Nairobi,  Kenya                     1\n",
       "England, United Kingdom             1\n",
       "Name: Location, Length: 89, dtype: int64"
      ]
     },
     "execution_count": 50,
     "metadata": {},
     "output_type": "execute_result"
    }
   ],
   "source": [
    "dataset['Location'].value_counts()"
   ]
  },
  {
   "cell_type": "code",
   "execution_count": 40,
   "metadata": {},
   "outputs": [
    {
     "data": {
      "text/plain": [
       "<matplotlib.axes._subplots.AxesSubplot at 0x7f07263ea940>"
      ]
     },
     "execution_count": 40,
     "metadata": {},
     "output_type": "execute_result"
    },
    {
     "data": {
      "image/png": "[encoded data removed]",
      "text/plain": [
       "<Figure size 432x288 with 1 Axes>"
      ]
     },
     "metadata": {},
     "output_type": "display_data"
    }
   ],
   "source": [
    "copy = dataset.copy()\n",
    "copy.dropna(inplace = True)\n",
    "sns.distplot(copy[\"Hour\"])"
   ]
  },
  {
   "cell_type": "code",
   "execution_count": 45,
   "metadata": {},
   "outputs": [
    {
     "data": {
      "text/plain": [
       "<matplotlib.axes._subplots.AxesSubplot at 0x7f0726345390>"
      ]
     },
     "execution_count": 45,
     "metadata": {},
     "output_type": "execute_result"
    },
    {
     "data": {
      "image/png": "[encoded data removed]",
      "text/plain": [
       "<Figure size 432x288 with 1 Axes>"
      ]
     },
     "metadata": {},
     "output_type": "display_data"
    }
   ],
   "source": [
    "copy = dataset.copy()\n",
    "copy.dropna(inplace = True)\n",
    "sns.distplot(copy[\"Day of the Week\"])"
   ]
  },
  {
   "cell_type": "markdown",
   "metadata": {},
   "source": [
    "## Feature Extraction using Text Data "
   ]
  },
  {
   "cell_type": "code",
   "execution_count": 38,
   "metadata": {},
   "outputs": [
    {
     "data": {
      "text/plain": [
       "['Datetime Created',\n",
       " 'Tweet',\n",
       " 'Language',\n",
       " 'Location',\n",
       " 'UserAccount Verified',\n",
       " 'Tweet Source',\n",
       " 'Retweet_count',\n",
       " 'Favourite_count',\n",
       " 'Year',\n",
       " 'Week of the Year',\n",
       " 'Day of the Year',\n",
       " 'Month_name',\n",
       " 'Day of the Week',\n",
       " 'Name of the Day',\n",
       " 'Hour',\n",
       " 'Minute']"
      ]
     },
     "execution_count": 38,
     "metadata": {},
     "output_type": "execute_result"
    }
   ],
   "source": [
    "# Removing any substrings containing \"http\"\n",
    "\n",
    "[re.sub(r\"^.*http.*$\", '', tweet) for tweet in dataset]"
   ]
  },
  {
   "cell_type": "code",
   "execution_count": 313,
   "metadata": {},
   "outputs": [
    {
     "data": {
      "text/plain": [
       "['Datetime Created',\n",
       " 'Tweet',\n",
       " 'Language',\n",
       " 'Location',\n",
       " 'UserAccount Verified',\n",
       " 'Tweet Source',\n",
       " 'Retweet_count',\n",
       " 'Favourite_count',\n",
       " 'Year',\n",
       " 'Week of the Year',\n",
       " 'Day of the Year',\n",
       " 'Month_name',\n",
       " 'Day of the Week',\n",
       " 'Name of the Day',\n",
       " 'Hour',\n",
       " 'Minute']"
      ]
     },
     "execution_count": 313,
     "metadata": {},
     "output_type": "execute_result"
    }
   ],
   "source": [
    "\n",
    "# Removing  all the non-ASCII characters and replacing with a single space\n",
    "\n",
    "[re.sub(r'[^\\x00-\\x7F]+','', tweet) for tweet in dataset]"
   ]
  },
  {
   "cell_type": "code",
   "execution_count": null,
   "metadata": {},
   "outputs": [],
   "source": []
  },
  {
   "cell_type": "code",
   "execution_count": 314,
   "metadata": {},
   "outputs": [],
   "source": [
    "\n",
    "# Coverting the non readable texts into nothing\n",
    "\n",
    "def removetext(text):\n",
    "    return ''.join([i if ord(i) < 128 else '' for i in text])"
   ]
  },
  {
   "cell_type": "code",
   "execution_count": 315,
   "metadata": {},
   "outputs": [],
   "source": [
    "# The actual removing of the noise and texts from the data set.\n",
    "\n",
    "dataset['Tweet'] = dataset['Tweet'].apply(removetext)"
   ]
  },
  {
   "cell_type": "code",
   "execution_count": 316,
   "metadata": {},
   "outputs": [],
   "source": [
    "dataset['Sentiment'] = dataset['Tweet'].apply(lambda tweet: TextBlob(tweet).sentiment.polarity)"
   ]
  },
  {
   "cell_type": "markdown",
   "metadata": {},
   "source": [
    "### Calculating the Number of Words in Every Tweet"
   ]
  },
  {
   "cell_type": "code",
   "execution_count": 63,
   "metadata": {},
   "outputs": [
    {
     "data": {
      "text/html": [
       "<div>\n",
       "<style scoped>\n",
       "    .dataframe tbody tr th:only-of-type {\n",
       "        vertical-align: middle;\n",
       "    }\n",
       "\n",
       "    .dataframe tbody tr th {\n",
       "        vertical-align: top;\n",
       "    }\n",
       "\n",
       "    .dataframe thead th {\n",
       "        text-align: right;\n",
       "    }\n",
       "</style>\n",
       "<table border=\"1\" class=\"dataframe\">\n",
       "  <thead>\n",
       "    <tr style=\"text-align: right;\">\n",
       "      <th></th>\n",
       "      <th>Tweet</th>\n",
       "      <th>word_count</th>\n",
       "    </tr>\n",
       "  </thead>\n",
       "  <tbody>\n",
       "    <tr>\n",
       "      <th>0</th>\n",
       "      <td>rt jerotichseii that you be switched off\\n\\nsw...</td>\n",
       "      <td>8</td>\n",
       "    </tr>\n",
       "    <tr>\n",
       "      <th>1</th>\n",
       "      <td>uk renewables generate more electricity than f...</td>\n",
       "      <td>16</td>\n",
       "    </tr>\n",
       "    <tr>\n",
       "      <th>2</th>\n",
       "      <td>jameni kenyapower switchoffkplc httpstcoc3sjiv...</td>\n",
       "      <td>4</td>\n",
       "    </tr>\n",
       "    <tr>\n",
       "      <th>3</th>\n",
       "      <td>kenyapower_care this was not attended to we ar...</td>\n",
       "      <td>21</td>\n",
       "    </tr>\n",
       "    <tr>\n",
       "      <th>4</th>\n",
       "      <td>osore_tunu kenyapower_care kplc must be switch...</td>\n",
       "      <td>7</td>\n",
       "    </tr>\n",
       "    <tr>\n",
       "      <th>5</th>\n",
       "      <td>rkaruria stephen_muturi kenyapower_care kenyap...</td>\n",
       "      <td>10</td>\n",
       "    </tr>\n",
       "    <tr>\n",
       "      <th>6</th>\n",
       "      <td>rt jerotichseii khalidhajiali01 kipmurkomen el...</td>\n",
       "      <td>19</td>\n",
       "    </tr>\n",
       "    <tr>\n",
       "      <th>7</th>\n",
       "      <td>rt jerotichseii wakenya judging from last week...</td>\n",
       "      <td>23</td>\n",
       "    </tr>\n",
       "    <tr>\n",
       "      <th>8</th>\n",
       "      <td>so from september 4th to 13th october my bill ...</td>\n",
       "      <td>23</td>\n",
       "    </tr>\n",
       "    <tr>\n",
       "      <th>9</th>\n",
       "      <td>njoratimothy kenyapower_care samkiura kenyapow...</td>\n",
       "      <td>5</td>\n",
       "    </tr>\n",
       "  </tbody>\n",
       "</table>\n",
       "</div>"
      ],
      "text/plain": [
       "                                               Tweet  word_count\n",
       "0  rt jerotichseii that you be switched off\\n\\nsw...           8\n",
       "1  uk renewables generate more electricity than f...          16\n",
       "2  jameni kenyapower switchoffkplc httpstcoc3sjiv...           4\n",
       "3  kenyapower_care this was not attended to we ar...          21\n",
       "4  osore_tunu kenyapower_care kplc must be switch...           7\n",
       "5  rkaruria stephen_muturi kenyapower_care kenyap...          10\n",
       "6  rt jerotichseii khalidhajiali01 kipmurkomen el...          19\n",
       "7  rt jerotichseii wakenya judging from last week...          23\n",
       "8  so from september 4th to 13th october my bill ...          23\n",
       "9  njoratimothy kenyapower_care samkiura kenyapow...           5"
      ]
     },
     "execution_count": 63,
     "metadata": {},
     "output_type": "execute_result"
    }
   ],
   "source": [
    "# Calculating the Number of Words in Every Tweet\n",
    "\n",
    "dataset['word_count'] = dataset['Tweet'].apply(lambda x: len(str(x).split(\" \")))\n",
    "dataset[['Tweet','word_count']].head(10)"
   ]
  },
  {
   "cell_type": "markdown",
   "metadata": {},
   "source": [
    "#### Find the Number of Characters in the Tweet"
   ]
  },
  {
   "cell_type": "code",
   "execution_count": 64,
   "metadata": {},
   "outputs": [
    {
     "data": {
      "text/html": [
       "<div>\n",
       "<style scoped>\n",
       "    .dataframe tbody tr th:only-of-type {\n",
       "        vertical-align: middle;\n",
       "    }\n",
       "\n",
       "    .dataframe tbody tr th {\n",
       "        vertical-align: top;\n",
       "    }\n",
       "\n",
       "    .dataframe thead th {\n",
       "        text-align: right;\n",
       "    }\n",
       "</style>\n",
       "<table border=\"1\" class=\"dataframe\">\n",
       "  <thead>\n",
       "    <tr style=\"text-align: right;\">\n",
       "      <th></th>\n",
       "      <th>Tweet</th>\n",
       "      <th>char_count</th>\n",
       "    </tr>\n",
       "  </thead>\n",
       "  <tbody>\n",
       "    <tr>\n",
       "      <th>0</th>\n",
       "      <td>rt jerotichseii that you be switched off\\n\\nsw...</td>\n",
       "      <td>74</td>\n",
       "    </tr>\n",
       "    <tr>\n",
       "      <th>1</th>\n",
       "      <td>uk renewables generate more electricity than f...</td>\n",
       "      <td>123</td>\n",
       "    </tr>\n",
       "    <tr>\n",
       "      <th>2</th>\n",
       "      <td>jameni kenyapower switchoffkplc httpstcoc3sjiv...</td>\n",
       "      <td>50</td>\n",
       "    </tr>\n",
       "    <tr>\n",
       "      <th>3</th>\n",
       "      <td>kenyapower_care this was not attended to we ar...</td>\n",
       "      <td>129</td>\n",
       "    </tr>\n",
       "    <tr>\n",
       "      <th>4</th>\n",
       "      <td>osore_tunu kenyapower_care kplc must be switch...</td>\n",
       "      <td>67</td>\n",
       "    </tr>\n",
       "  </tbody>\n",
       "</table>\n",
       "</div>"
      ],
      "text/plain": [
       "                                               Tweet  char_count\n",
       "0  rt jerotichseii that you be switched off\\n\\nsw...          74\n",
       "1  uk renewables generate more electricity than f...         123\n",
       "2  jameni kenyapower switchoffkplc httpstcoc3sjiv...          50\n",
       "3  kenyapower_care this was not attended to we ar...         129\n",
       "4  osore_tunu kenyapower_care kplc must be switch...          67"
      ]
     },
     "execution_count": 64,
     "metadata": {},
     "output_type": "execute_result"
    }
   ],
   "source": [
    "# Finding the Number of Characters\n",
    "\n",
    "dataset['char_count'] = dataset['Tweet'].str.len() ## this also includes spaces\n",
    "dataset[['Tweet','char_count']].head()"
   ]
  },
  {
   "cell_type": "markdown",
   "metadata": {},
   "source": [
    "#### Finding the Average Word Length"
   ]
  },
  {
   "cell_type": "code",
   "execution_count": 65,
   "metadata": {},
   "outputs": [
    {
     "data": {
      "text/html": [
       "<div>\n",
       "<style scoped>\n",
       "    .dataframe tbody tr th:only-of-type {\n",
       "        vertical-align: middle;\n",
       "    }\n",
       "\n",
       "    .dataframe tbody tr th {\n",
       "        vertical-align: top;\n",
       "    }\n",
       "\n",
       "    .dataframe thead th {\n",
       "        text-align: right;\n",
       "    }\n",
       "</style>\n",
       "<table border=\"1\" class=\"dataframe\">\n",
       "  <thead>\n",
       "    <tr style=\"text-align: right;\">\n",
       "      <th></th>\n",
       "      <th>Tweet</th>\n",
       "      <th>avg_word</th>\n",
       "    </tr>\n",
       "  </thead>\n",
       "  <tbody>\n",
       "    <tr>\n",
       "      <th>0</th>\n",
       "      <td>rt jerotichseii that you be switched off\\n\\nsw...</td>\n",
       "      <td>7.222222</td>\n",
       "    </tr>\n",
       "    <tr>\n",
       "      <th>1</th>\n",
       "      <td>uk renewables generate more electricity than f...</td>\n",
       "      <td>6.750000</td>\n",
       "    </tr>\n",
       "    <tr>\n",
       "      <th>2</th>\n",
       "      <td>jameni kenyapower switchoffkplc httpstcoc3sjiv...</td>\n",
       "      <td>11.750000</td>\n",
       "    </tr>\n",
       "    <tr>\n",
       "      <th>3</th>\n",
       "      <td>kenyapower_care this was not attended to we ar...</td>\n",
       "      <td>5.190476</td>\n",
       "    </tr>\n",
       "    <tr>\n",
       "      <th>4</th>\n",
       "      <td>osore_tunu kenyapower_care kplc must be switch...</td>\n",
       "      <td>7.375000</td>\n",
       "    </tr>\n",
       "  </tbody>\n",
       "</table>\n",
       "</div>"
      ],
      "text/plain": [
       "                                               Tweet   avg_word\n",
       "0  rt jerotichseii that you be switched off\\n\\nsw...   7.222222\n",
       "1  uk renewables generate more electricity than f...   6.750000\n",
       "2  jameni kenyapower switchoffkplc httpstcoc3sjiv...  11.750000\n",
       "3  kenyapower_care this was not attended to we ar...   5.190476\n",
       "4  osore_tunu kenyapower_care kplc must be switch...   7.375000"
      ]
     },
     "execution_count": 65,
     "metadata": {},
     "output_type": "execute_result"
    }
   ],
   "source": [
    "# Average Word Length\n",
    "\n",
    "def avg_word(sentence):\n",
    "  words = sentence.split()\n",
    "  return (sum(len(word) for word in words)/len(words))\n",
    "\n",
    "dataset['avg_word'] = dataset['Tweet'].apply(lambda x: avg_word(x))\n",
    "dataset[['Tweet','avg_word']].head()"
   ]
  },
  {
   "cell_type": "code",
   "execution_count": 56,
   "metadata": {},
   "outputs": [
    {
     "name": "stdout",
     "output_type": "stream",
     "text": [
      "[nltk_data] Downloading package stopwords to\n",
      "[nltk_data]     /home/ec2-user/nltk_data...\n",
      "[nltk_data]   Unzipping corpora/stopwords.zip.\n"
     ]
    },
    {
     "data": {
      "text/plain": [
       "True"
      ]
     },
     "execution_count": 56,
     "metadata": {},
     "output_type": "execute_result"
    }
   ],
   "source": [
    "import nltk\n",
    "nltk.download('stopwords')"
   ]
  },
  {
   "cell_type": "markdown",
   "metadata": {},
   "source": [
    "#### Finding the Number of StopWords"
   ]
  },
  {
   "cell_type": "code",
   "execution_count": 66,
   "metadata": {},
   "outputs": [
    {
     "data": {
      "text/html": [
       "<div>\n",
       "<style scoped>\n",
       "    .dataframe tbody tr th:only-of-type {\n",
       "        vertical-align: middle;\n",
       "    }\n",
       "\n",
       "    .dataframe tbody tr th {\n",
       "        vertical-align: top;\n",
       "    }\n",
       "\n",
       "    .dataframe thead th {\n",
       "        text-align: right;\n",
       "    }\n",
       "</style>\n",
       "<table border=\"1\" class=\"dataframe\">\n",
       "  <thead>\n",
       "    <tr style=\"text-align: right;\">\n",
       "      <th></th>\n",
       "      <th>Tweet</th>\n",
       "      <th>stopwords</th>\n",
       "    </tr>\n",
       "  </thead>\n",
       "  <tbody>\n",
       "    <tr>\n",
       "      <th>0</th>\n",
       "      <td>rt jerotichseii that you be switched off\\n\\nsw...</td>\n",
       "      <td>4</td>\n",
       "    </tr>\n",
       "    <tr>\n",
       "      <th>1</th>\n",
       "      <td>uk renewables generate more electricity than f...</td>\n",
       "      <td>4</td>\n",
       "    </tr>\n",
       "    <tr>\n",
       "      <th>2</th>\n",
       "      <td>jameni kenyapower switchoffkplc httpstcoc3sjiv...</td>\n",
       "      <td>0</td>\n",
       "    </tr>\n",
       "    <tr>\n",
       "      <th>3</th>\n",
       "      <td>kenyapower_care this was not attended to we ar...</td>\n",
       "      <td>13</td>\n",
       "    </tr>\n",
       "    <tr>\n",
       "      <th>4</th>\n",
       "      <td>osore_tunu kenyapower_care kplc must be switch...</td>\n",
       "      <td>2</td>\n",
       "    </tr>\n",
       "  </tbody>\n",
       "</table>\n",
       "</div>"
      ],
      "text/plain": [
       "                                               Tweet  stopwords\n",
       "0  rt jerotichseii that you be switched off\\n\\nsw...          4\n",
       "1  uk renewables generate more electricity than f...          4\n",
       "2  jameni kenyapower switchoffkplc httpstcoc3sjiv...          0\n",
       "3  kenyapower_care this was not attended to we ar...         13\n",
       "4  osore_tunu kenyapower_care kplc must be switch...          2"
      ]
     },
     "execution_count": 66,
     "metadata": {},
     "output_type": "execute_result"
    }
   ],
   "source": [
    "# Number of stopwords\n",
    "\n",
    "stop = stopwords.words('english')\n",
    "dataset['stopwords'] = dataset['Tweet'].apply(lambda x: len([x for x in x.split() if x in stop]))\n",
    "dataset[['Tweet','stopwords']].head()"
   ]
  },
  {
   "cell_type": "markdown",
   "metadata": {},
   "source": [
    "### Finding the Number of Special Characters"
   ]
  },
  {
   "cell_type": "code",
   "execution_count": 67,
   "metadata": {},
   "outputs": [
    {
     "data": {
      "text/html": [
       "<div>\n",
       "<style scoped>\n",
       "    .dataframe tbody tr th:only-of-type {\n",
       "        vertical-align: middle;\n",
       "    }\n",
       "\n",
       "    .dataframe tbody tr th {\n",
       "        vertical-align: top;\n",
       "    }\n",
       "\n",
       "    .dataframe thead th {\n",
       "        text-align: right;\n",
       "    }\n",
       "</style>\n",
       "<table border=\"1\" class=\"dataframe\">\n",
       "  <thead>\n",
       "    <tr style=\"text-align: right;\">\n",
       "      <th></th>\n",
       "      <th>Tweet</th>\n",
       "      <th>hastags</th>\n",
       "    </tr>\n",
       "  </thead>\n",
       "  <tbody>\n",
       "    <tr>\n",
       "      <th>0</th>\n",
       "      <td>rt jerotichseii that you be switched off\\n\\nsw...</td>\n",
       "      <td>0</td>\n",
       "    </tr>\n",
       "    <tr>\n",
       "      <th>1</th>\n",
       "      <td>uk renewables generate more electricity than f...</td>\n",
       "      <td>0</td>\n",
       "    </tr>\n",
       "    <tr>\n",
       "      <th>2</th>\n",
       "      <td>jameni kenyapower switchoffkplc httpstcoc3sjiv...</td>\n",
       "      <td>0</td>\n",
       "    </tr>\n",
       "    <tr>\n",
       "      <th>3</th>\n",
       "      <td>kenyapower_care this was not attended to we ar...</td>\n",
       "      <td>0</td>\n",
       "    </tr>\n",
       "    <tr>\n",
       "      <th>4</th>\n",
       "      <td>osore_tunu kenyapower_care kplc must be switch...</td>\n",
       "      <td>0</td>\n",
       "    </tr>\n",
       "  </tbody>\n",
       "</table>\n",
       "</div>"
      ],
      "text/plain": [
       "                                               Tweet  hastags\n",
       "0  rt jerotichseii that you be switched off\\n\\nsw...        0\n",
       "1  uk renewables generate more electricity than f...        0\n",
       "2  jameni kenyapower switchoffkplc httpstcoc3sjiv...        0\n",
       "3  kenyapower_care this was not attended to we ar...        0\n",
       "4  osore_tunu kenyapower_care kplc must be switch...        0"
      ]
     },
     "execution_count": 67,
     "metadata": {},
     "output_type": "execute_result"
    }
   ],
   "source": [
    "# Number of special characters\n",
    "\n",
    "dataset['hastags'] = dataset['Tweet'].apply(lambda x: len([x for x in x.split() if x.startswith('#')]))\n",
    "dataset[['Tweet','hastags']].head()"
   ]
  },
  {
   "cell_type": "markdown",
   "metadata": {},
   "source": [
    "#### Finding the Number of Numerics in the Tweets"
   ]
  },
  {
   "cell_type": "code",
   "execution_count": 68,
   "metadata": {},
   "outputs": [
    {
     "data": {
      "text/html": [
       "<div>\n",
       "<style scoped>\n",
       "    .dataframe tbody tr th:only-of-type {\n",
       "        vertical-align: middle;\n",
       "    }\n",
       "\n",
       "    .dataframe tbody tr th {\n",
       "        vertical-align: top;\n",
       "    }\n",
       "\n",
       "    .dataframe thead th {\n",
       "        text-align: right;\n",
       "    }\n",
       "</style>\n",
       "<table border=\"1\" class=\"dataframe\">\n",
       "  <thead>\n",
       "    <tr style=\"text-align: right;\">\n",
       "      <th></th>\n",
       "      <th>Tweet</th>\n",
       "      <th>numerics</th>\n",
       "    </tr>\n",
       "  </thead>\n",
       "  <tbody>\n",
       "    <tr>\n",
       "      <th>0</th>\n",
       "      <td>rt jerotichseii that you be switched off\\n\\nsw...</td>\n",
       "      <td>0</td>\n",
       "    </tr>\n",
       "    <tr>\n",
       "      <th>1</th>\n",
       "      <td>uk renewables generate more electricity than f...</td>\n",
       "      <td>0</td>\n",
       "    </tr>\n",
       "    <tr>\n",
       "      <th>2</th>\n",
       "      <td>jameni kenyapower switchoffkplc httpstcoc3sjiv...</td>\n",
       "      <td>0</td>\n",
       "    </tr>\n",
       "    <tr>\n",
       "      <th>3</th>\n",
       "      <td>kenyapower_care this was not attended to we ar...</td>\n",
       "      <td>0</td>\n",
       "    </tr>\n",
       "    <tr>\n",
       "      <th>4</th>\n",
       "      <td>osore_tunu kenyapower_care kplc must be switch...</td>\n",
       "      <td>0</td>\n",
       "    </tr>\n",
       "  </tbody>\n",
       "</table>\n",
       "</div>"
      ],
      "text/plain": [
       "                                               Tweet  numerics\n",
       "0  rt jerotichseii that you be switched off\\n\\nsw...         0\n",
       "1  uk renewables generate more electricity than f...         0\n",
       "2  jameni kenyapower switchoffkplc httpstcoc3sjiv...         0\n",
       "3  kenyapower_care this was not attended to we ar...         0\n",
       "4  osore_tunu kenyapower_care kplc must be switch...         0"
      ]
     },
     "execution_count": 68,
     "metadata": {},
     "output_type": "execute_result"
    }
   ],
   "source": [
    "#Number of numerics\n",
    "\n",
    "dataset['numerics'] = dataset['Tweet'].apply(lambda x: len([x for x in x.split() if x.isdigit()]))\n",
    "dataset[['Tweet','numerics']].head()"
   ]
  },
  {
   "cell_type": "markdown",
   "metadata": {},
   "source": [
    "### Finding the Number of Special Characters"
   ]
  },
  {
   "cell_type": "code",
   "execution_count": 69,
   "metadata": {},
   "outputs": [
    {
     "data": {
      "text/html": [
       "<div>\n",
       "<style scoped>\n",
       "    .dataframe tbody tr th:only-of-type {\n",
       "        vertical-align: middle;\n",
       "    }\n",
       "\n",
       "    .dataframe tbody tr th {\n",
       "        vertical-align: top;\n",
       "    }\n",
       "\n",
       "    .dataframe thead th {\n",
       "        text-align: right;\n",
       "    }\n",
       "</style>\n",
       "<table border=\"1\" class=\"dataframe\">\n",
       "  <thead>\n",
       "    <tr style=\"text-align: right;\">\n",
       "      <th></th>\n",
       "      <th>Tweet</th>\n",
       "      <th>hastags</th>\n",
       "    </tr>\n",
       "  </thead>\n",
       "  <tbody>\n",
       "    <tr>\n",
       "      <th>0</th>\n",
       "      <td>rt jerotichseii that you be switched off\\n\\nsw...</td>\n",
       "      <td>0</td>\n",
       "    </tr>\n",
       "    <tr>\n",
       "      <th>1</th>\n",
       "      <td>uk renewables generate more electricity than f...</td>\n",
       "      <td>0</td>\n",
       "    </tr>\n",
       "    <tr>\n",
       "      <th>2</th>\n",
       "      <td>jameni kenyapower switchoffkplc httpstcoc3sjiv...</td>\n",
       "      <td>0</td>\n",
       "    </tr>\n",
       "    <tr>\n",
       "      <th>3</th>\n",
       "      <td>kenyapower_care this was not attended to we ar...</td>\n",
       "      <td>0</td>\n",
       "    </tr>\n",
       "    <tr>\n",
       "      <th>4</th>\n",
       "      <td>osore_tunu kenyapower_care kplc must be switch...</td>\n",
       "      <td>0</td>\n",
       "    </tr>\n",
       "  </tbody>\n",
       "</table>\n",
       "</div>"
      ],
      "text/plain": [
       "                                               Tweet  hastags\n",
       "0  rt jerotichseii that you be switched off\\n\\nsw...        0\n",
       "1  uk renewables generate more electricity than f...        0\n",
       "2  jameni kenyapower switchoffkplc httpstcoc3sjiv...        0\n",
       "3  kenyapower_care this was not attended to we ar...        0\n",
       "4  osore_tunu kenyapower_care kplc must be switch...        0"
      ]
     },
     "execution_count": 69,
     "metadata": {},
     "output_type": "execute_result"
    }
   ],
   "source": [
    "#Number of special characters\n",
    "\n",
    "dataset['hastags'] = dataset['Tweet'].apply(lambda x: len([x for x in x.split() if x.startswith('#')]))\n",
    "dataset[['Tweet','hastags']].head()"
   ]
  },
  {
   "cell_type": "markdown",
   "metadata": {},
   "source": [
    "#### The Number of Upper Case Words"
   ]
  },
  {
   "cell_type": "code",
   "execution_count": 60,
   "metadata": {},
   "outputs": [
    {
     "data": {
      "text/html": [
       "<div>\n",
       "<style scoped>\n",
       "    .dataframe tbody tr th:only-of-type {\n",
       "        vertical-align: middle;\n",
       "    }\n",
       "\n",
       "    .dataframe tbody tr th {\n",
       "        vertical-align: top;\n",
       "    }\n",
       "\n",
       "    .dataframe thead th {\n",
       "        text-align: right;\n",
       "    }\n",
       "</style>\n",
       "<table border=\"1\" class=\"dataframe\">\n",
       "  <thead>\n",
       "    <tr style=\"text-align: right;\">\n",
       "      <th></th>\n",
       "      <th>Tweet</th>\n",
       "      <th>upper</th>\n",
       "    </tr>\n",
       "  </thead>\n",
       "  <tbody>\n",
       "    <tr>\n",
       "      <th>0</th>\n",
       "      <td>RT @JerotichSeii: That you be switched off.\\n\\...</td>\n",
       "      <td>1</td>\n",
       "    </tr>\n",
       "    <tr>\n",
       "      <th>1</th>\n",
       "      <td>UK renewables generate more electricity than f...</td>\n",
       "      <td>1</td>\n",
       "    </tr>\n",
       "    <tr>\n",
       "      <th>2</th>\n",
       "      <td>Jameni @KenyaPower #SwitchOffKPLC https://t.co...</td>\n",
       "      <td>0</td>\n",
       "    </tr>\n",
       "    <tr>\n",
       "      <th>3</th>\n",
       "      <td>@KenyaPower_Care This was not attended to. We ...</td>\n",
       "      <td>0</td>\n",
       "    </tr>\n",
       "    <tr>\n",
       "      <th>4</th>\n",
       "      <td>@osore_tunu @KenyaPower_Care KPLC must be swit...</td>\n",
       "      <td>1</td>\n",
       "    </tr>\n",
       "  </tbody>\n",
       "</table>\n",
       "</div>"
      ],
      "text/plain": [
       "                                               Tweet  upper\n",
       "0  RT @JerotichSeii: That you be switched off.\\n\\...      1\n",
       "1  UK renewables generate more electricity than f...      1\n",
       "2  Jameni @KenyaPower #SwitchOffKPLC https://t.co...      0\n",
       "3  @KenyaPower_Care This was not attended to. We ...      0\n",
       "4  @osore_tunu @KenyaPower_Care KPLC must be swit...      1"
      ]
     },
     "execution_count": 60,
     "metadata": {},
     "output_type": "execute_result"
    }
   ],
   "source": [
    "# Number of Uppercase words\n",
    "\n",
    "dataset['upper'] = dataset['Tweet'].apply(lambda x: len([x for x in x.split() if x.isupper()]))\n",
    "dataset[['Tweet','upper']].head()"
   ]
  },
  {
   "cell_type": "markdown",
   "metadata": {},
   "source": [
    "#### Converting the Tweet to Lower Case"
   ]
  },
  {
   "cell_type": "code",
   "execution_count": 61,
   "metadata": {},
   "outputs": [],
   "source": [
    "# To Lower case\n",
    "\n",
    "dataset['Tweet'] = dataset['Tweet'].apply(lambda x: x.lower())"
   ]
  },
  {
   "cell_type": "markdown",
   "metadata": {},
   "source": [
    "### Removing Punctuations in the Tweet"
   ]
  },
  {
   "cell_type": "code",
   "execution_count": null,
   "metadata": {},
   "outputs": [],
   "source": []
  },
  {
   "cell_type": "code",
   "execution_count": 62,
   "metadata": {},
   "outputs": [
    {
     "data": {
      "text/plain": [
       "0    rt jerotichseii that you be switched off\\n\\nsw...\n",
       "1    uk renewables generate more electricity than f...\n",
       "2    jameni kenyapower switchoffkplc httpstcoc3sjiv...\n",
       "3    kenyapower_care this was not attended to we ar...\n",
       "4    osore_tunu kenyapower_care kplc must be switch...\n",
       "Name: Tweet, dtype: object"
      ]
     },
     "execution_count": 62,
     "metadata": {},
     "output_type": "execute_result"
    }
   ],
   "source": [
    "# Removing Punctuation\n",
    "\n",
    "dataset['Tweet'] = dataset['Tweet'].str.replace('[^\\w\\s]','')\n",
    "dataset['Tweet'].head()"
   ]
  },
  {
   "cell_type": "markdown",
   "metadata": {},
   "source": [
    "### Removing Special Characters, Numbers and Punctuations"
   ]
  },
  {
   "cell_type": "code",
   "execution_count": 86,
   "metadata": {},
   "outputs": [],
   "source": [
    "# Remove special characters, numbers, punctuations\n",
    "\n",
    "dataset['Tweet'] = dataset['Tweet'].str.replace(\"[^a-zA-Z#]\", \" \")"
   ]
  },
  {
   "cell_type": "markdown",
   "metadata": {},
   "source": [
    "### Removing Twitter Handles (@user)"
   ]
  },
  {
   "cell_type": "code",
   "execution_count": 91,
   "metadata": {},
   "outputs": [],
   "source": [
    "def remove_pattern(input_txt, pattern):\n",
    "    r = re.findall(pattern, input_txt)\n",
    "    for i in r:\n",
    "        input_txt = re.sub(i, '', input_txt)\n",
    "        \n",
    "    return input_txt "
   ]
  },
  {
   "cell_type": "code",
   "execution_count": 92,
   "metadata": {},
   "outputs": [],
   "source": [
    "# remove twitter handles (@user)\n",
    "dataset['Tweet'] = np.vectorize(remove_pattern)(dataset['Tweet'], \"@[\\w]*\")"
   ]
  },
  {
   "cell_type": "markdown",
   "metadata": {},
   "source": [
    "### Removing the Stop Words"
   ]
  },
  {
   "cell_type": "code",
   "execution_count": 70,
   "metadata": {},
   "outputs": [
    {
     "data": {
      "text/plain": [
       "0    rt jerotichseii switched switchoffkplc httpstc...\n",
       "1    uk renewables generate electricity fossil fuel...\n",
       "2    jameni kenyapower switchoffkplc httpstcoc3sjiv...\n",
       "3    kenyapower_care attended still dark 7days coun...\n",
       "4    osore_tunu kenyapower_care kplc must switched ...\n",
       "Name: Tweet, dtype: object"
      ]
     },
     "execution_count": 70,
     "metadata": {},
     "output_type": "execute_result"
    }
   ],
   "source": [
    "# Removal of Stop Words\n",
    "\n",
    "dataset['Tweet'] = dataset['Tweet'].apply(lambda x: \" \".join(x for x in x.split() if x not in stop))\n",
    "dataset['Tweet'].head()"
   ]
  },
  {
   "cell_type": "markdown",
   "metadata": {},
   "source": [
    "### Removing the Short Words"
   ]
  },
  {
   "cell_type": "code",
   "execution_count": null,
   "metadata": {},
   "outputs": [],
   "source": [
    "dataset['Tweet'] = dataset['Tweet'].apply(lambda x: ' '.join([w for w in x.split() if len(w)>3]))"
   ]
  },
  {
   "cell_type": "code",
   "execution_count": null,
   "metadata": {},
   "outputs": [],
   "source": []
  },
  {
   "cell_type": "markdown",
   "metadata": {},
   "source": [
    "#### Removing the Common Word"
   ]
  },
  {
   "cell_type": "code",
   "execution_count": 72,
   "metadata": {},
   "outputs": [
    {
     "data": {
      "text/plain": [
       "0                                                     \n",
       "1    uk renewables generate electricity fossil fuel...\n",
       "2                            jameni httpstcoc3sjivtbwd\n",
       "3    attended still dark 7days counting acceptable ...\n",
       "4                                 osore_tunu kplc must\n",
       "Name: Tweet, dtype: object"
      ]
     },
     "execution_count": 72,
     "metadata": {},
     "output_type": "execute_result"
    }
   ],
   "source": [
    "#Common word removal\n",
    "\n",
    "freq = pd.Series(' '.join(dataset['Tweet']).split()).value_counts()[:10]\n",
    "freq = list(freq.index)\n",
    "dataset['Tweet'] = dataset['Tweet'].apply(lambda x: \" \".join(x for x in x.split() if x not in freq))\n",
    "dataset['Tweet'].head()"
   ]
  },
  {
   "cell_type": "markdown",
   "metadata": {},
   "source": [
    "### Stemming the Tweets \n",
    "'''Stemming refers to the removal of suffices, like “ing”, “ly”, “s”, etc. by a simple rule-based approach. \n",
    "For this purpose, we will use PorterStemmer from the NLTK library."
   ]
  },
  {
   "cell_type": "markdown",
   "metadata": {},
   "source": [
    "\n",
    "Stemming is a rule-based process of stripping the suffixes (“ing”, “ly”, “es”, “s” etc) from a word. For example, For example – “play”, “player”, “played”, “plays” and “playing” are the different variations of the word – “play”."
   ]
  },
  {
   "cell_type": "code",
   "execution_count": 94,
   "metadata": {},
   "outputs": [
    {
     "data": {
      "text/plain": [
       "0    RT jerotichseii that you be switch off #switch...\n",
       "1    UK renew gener more electr than fossil fuel fo...\n",
       "2    jameni kenyapow #switchoffkplc http t co C sji...\n",
       "3    kenyapow care thi wa not attend to We are stil...\n",
       "4    osor tunu kenyapow care kplc must be switch of...\n",
       "5    rkaruria stephen muturi kenyapow care kenyapow...\n",
       "6    RT jerotichseii khalidhajiali kipmurkomen eliu...\n",
       "7    RT jerotichseii wakenya judg from last week s ...\n",
       "8    So from septemb th to th octob my bill is whil...\n",
       "9    njoratimothi kenyapow care samkiura kenyapow #...\n",
       "Name: Tweet, dtype: object"
      ]
     },
     "execution_count": 94,
     "metadata": {},
     "output_type": "execute_result"
    }
   ],
   "source": [
    "from nltk.stem import PorterStemmer\n",
    "st = PorterStemmer()\n",
    "dataset['Tweet'][:10].apply(lambda x: \" \".join([st.stem(word) for word in x.split()]))"
   ]
  },
  {
   "cell_type": "markdown",
   "metadata": {},
   "source": [
    "## Story Generation and Visualization from Tweets"
   ]
  },
  {
   "cell_type": "markdown",
   "metadata": {},
   "source": [
    "\n",
    "##### We explore the Cleaned Tweets in this section.  We want to gain insights\n",
    "\n",
    "Before we begin exploration, we must think and ask questions related to the data in hand. A few probable questions are as follows:\n",
    "\n",
    "What are the most common words in the entire dataset?\n",
    "\n",
    "What are the most common words in the dataset for negative and positive tweets, respectively?\n",
    "\n",
    "How many hashtags are there in a tweet?\n",
    "\n",
    "Which trends are associated with my dataset?\n",
    "\n",
    "Which trends are associated with either of the sentiments? Are they compatible with the sentiments?\n",
    " "
   ]
  },
  {
   "cell_type": "code",
   "execution_count": null,
   "metadata": {},
   "outputs": [],
   "source": []
  },
  {
   "cell_type": "markdown",
   "metadata": {},
   "source": [
    "### A) Understanding the common words used in the tweets: WordCloud\n",
    "\n",
    "Now I want to see how well the given sentiments are distributed across the train dataset. One way to accomplish this task is by understanding the common words by plotting wordclouds.\n",
    "\n",
    "A wordcloud is a visualization wherein the most frequent words appear in large size and the less frequent words appear in smaller sizes.\n",
    "\n",
    "Let’s visualize all the words our data using the wordcloud plot."
   ]
  },
  {
   "cell_type": "code",
   "execution_count": 95,
   "metadata": {},
   "outputs": [
    {
     "data": {
      "image/png": "[encoded data removed]",
      "text/plain": [
       "<Figure size 720x720 with 1 Axes>"
      ]
     },
     "metadata": {},
     "output_type": "display_data"
    }
   ],
   "source": [
    "# Creating word Cloud for all Words in all tweets\n",
    "allWords = ' '.join([text for text in dataset['Tweet']])\n",
    "wordcloud = WordCloud(width=800, height=500, random_state=21, max_font_size=110).generate(allWords)\n",
    "plt.figure(figsize=(10, 10)) \n",
    "plt.imshow(wordcloud, interpolation=\"bilinear\") \n",
    "plt.axis('off') \n",
    "plt.show()"
   ]
  },
  {
   "cell_type": "code",
   "execution_count": 97,
   "metadata": {},
   "outputs": [],
   "source": [
    "dataset['Sentiment'] = dataset['Tweet'].apply(lambda tweet: TextBlob(tweet).sentiment.polarity)"
   ]
  },
  {
   "cell_type": "markdown",
   "metadata": {},
   "source": [
    "### D) Understanding the impact of Hashtags on tweets sentiment\n",
    "Hashtags in twitter are synonymous with the ongoing trends on twitter at any particular point in time. We should try to check whether these hashtags add any value to our sentiment analysis task, i.e., they help in distinguishing tweets into the different sentiments.\n",
    "\n",
    "For instance, given below is a tweet from our dataset: \n",
    "\n",
    "\n",
    "The tweet seems sexist in nature and the hashtags in the tweet convey the same feeling.\n",
    "\n",
    "We will store all the trend terms in two separate lists — one for non-racist/sexist tweets and the other for racist/sexist tweets."
   ]
  },
  {
   "cell_type": "code",
   "execution_count": 96,
   "metadata": {},
   "outputs": [],
   "source": [
    "# function to collect hashtags\n",
    "def hashtag_extract(x):\n",
    "    hashtags = []\n",
    "    # Loop over the words in the tweet\n",
    "    for i in x:\n",
    "        ht = re.findall(r\"#(\\w+)\", i)\n",
    "        hashtags.append(ht)\n",
    "\n",
    "    return hashtags"
   ]
  },
  {
   "cell_type": "code",
   "execution_count": 98,
   "metadata": {},
   "outputs": [],
   "source": [
    "# extracting hashtags from non racist/sexist tweets\n",
    "\n",
    "HT_regular = hashtag_extract(dataset['Tweet'][dataset['Sentiment'] == 0])\n",
    "\n",
    "# extracting hashtags from racist/sexist tweets\n",
    "HT_negative = hashtag_extract(dataset['Tweet'][dataset['Sentiment'] == 1])\n",
    "\n",
    "# unnesting list\n",
    "HT_regular = sum(HT_regular,[])\n",
    "HT_negative = sum(HT_negative,[])"
   ]
  },
  {
   "cell_type": "markdown",
   "metadata": {},
   "source": [
    "Now that we have prepared our lists of hashtags for both the sentiments, we can plot the top n hashtags. So, first let’s check the hashtags in the non-racist/sexist tweets."
   ]
  },
  {
   "cell_type": "code",
   "execution_count": 99,
   "metadata": {},
   "outputs": [
    {
     "data": {
      "image/png": "[encoded data removed]",
      "text/plain": [
       "<Figure size 1152x360 with 1 Axes>"
      ]
     },
     "metadata": {},
     "output_type": "display_data"
    }
   ],
   "source": [
    "a = nltk.FreqDist(HT_regular)\n",
    "d = pd.DataFrame({'Hashtag': list(a.keys()),\n",
    "                  'Count': list(a.values())})\n",
    "# selecting top 10 most frequent hashtags     \n",
    "d = d.nlargest(columns=\"Count\", n = 10) \n",
    "plt.figure(figsize=(16,5))\n",
    "ax = sns.barplot(data=d, x= \"Hashtag\", y = \"Count\")\n",
    "ax.set(ylabel = 'Count')\n",
    "plt.show()"
   ]
  },
  {
   "cell_type": "code",
   "execution_count": null,
   "metadata": {},
   "outputs": [],
   "source": []
  },
  {
   "cell_type": "code",
   "execution_count": null,
   "metadata": {},
   "outputs": [],
   "source": []
  },
  {
   "cell_type": "code",
   "execution_count": 333,
   "metadata": {},
   "outputs": [
    {
     "data": {
      "text/html": [
       "<div>\n",
       "<style scoped>\n",
       "    .dataframe tbody tr th:only-of-type {\n",
       "        vertical-align: middle;\n",
       "    }\n",
       "\n",
       "    .dataframe tbody tr th {\n",
       "        vertical-align: top;\n",
       "    }\n",
       "\n",
       "    .dataframe thead th {\n",
       "        text-align: right;\n",
       "    }\n",
       "</style>\n",
       "<table border=\"1\" class=\"dataframe\">\n",
       "  <thead>\n",
       "    <tr style=\"text-align: right;\">\n",
       "      <th></th>\n",
       "      <th>Datetime Created</th>\n",
       "      <th>Tweet</th>\n",
       "      <th>Language</th>\n",
       "      <th>Location</th>\n",
       "      <th>UserAccount Verified</th>\n",
       "      <th>Tweet Source</th>\n",
       "      <th>Retweet_count</th>\n",
       "      <th>Favourite_count</th>\n",
       "      <th>Year</th>\n",
       "      <th>Week of the Year</th>\n",
       "      <th>...</th>\n",
       "      <th>Hour</th>\n",
       "      <th>Minute</th>\n",
       "      <th>Sentiment</th>\n",
       "      <th>word_count</th>\n",
       "      <th>char_count</th>\n",
       "      <th>avg_word</th>\n",
       "      <th>stopwords</th>\n",
       "      <th>hastags</th>\n",
       "      <th>numerics</th>\n",
       "      <th>upper</th>\n",
       "    </tr>\n",
       "  </thead>\n",
       "  <tbody>\n",
       "    <tr>\n",
       "      <th>0</th>\n",
       "      <td>2019-10-15 06:24:10</td>\n",
       "      <td>rt jerotichseii switched switchoffkplc httpstc...</td>\n",
       "      <td>en</td>\n",
       "      <td>TinkerBellLand</td>\n",
       "      <td>False</td>\n",
       "      <td>Twitter Web App</td>\n",
       "      <td>119</td>\n",
       "      <td>0</td>\n",
       "      <td>2019</td>\n",
       "      <td>42</td>\n",
       "      <td>...</td>\n",
       "      <td>6</td>\n",
       "      <td>24</td>\n",
       "      <td>0.000</td>\n",
       "      <td>8</td>\n",
       "      <td>83</td>\n",
       "      <td>8.222222</td>\n",
       "      <td>2</td>\n",
       "      <td>1</td>\n",
       "      <td>0</td>\n",
       "      <td>1</td>\n",
       "    </tr>\n",
       "    <tr>\n",
       "      <th>1</th>\n",
       "      <td>2019-10-15 04:08:22</td>\n",
       "      <td>uk renewables generate electricity fossil fuel...</td>\n",
       "      <td>en</td>\n",
       "      <td>NaN</td>\n",
       "      <td>False</td>\n",
       "      <td>Twitter for Android</td>\n",
       "      <td>0</td>\n",
       "      <td>1</td>\n",
       "      <td>2019</td>\n",
       "      <td>42</td>\n",
       "      <td>...</td>\n",
       "      <td>4</td>\n",
       "      <td>8</td>\n",
       "      <td>0.375</td>\n",
       "      <td>16</td>\n",
       "      <td>131</td>\n",
       "      <td>7.250000</td>\n",
       "      <td>4</td>\n",
       "      <td>3</td>\n",
       "      <td>0</td>\n",
       "      <td>1</td>\n",
       "    </tr>\n",
       "  </tbody>\n",
       "</table>\n",
       "<p>2 rows × 24 columns</p>\n",
       "</div>"
      ],
      "text/plain": [
       "     Datetime Created                                              Tweet  \\\n",
       "0 2019-10-15 06:24:10  rt jerotichseii switched switchoffkplc httpstc...   \n",
       "1 2019-10-15 04:08:22  uk renewables generate electricity fossil fuel...   \n",
       "\n",
       "  Language        Location  UserAccount Verified         Tweet Source  \\\n",
       "0       en  TinkerBellLand                 False      Twitter Web App   \n",
       "1       en             NaN                 False  Twitter for Android   \n",
       "\n",
       "   Retweet_count  Favourite_count  Year  Week of the Year  ...  Hour Minute  \\\n",
       "0            119                0  2019                42  ...     6     24   \n",
       "1              0                1  2019                42  ...     4      8   \n",
       "\n",
       "   Sentiment word_count  char_count  avg_word  stopwords  hastags  numerics  \\\n",
       "0      0.000          8          83  8.222222          2        1         0   \n",
       "1      0.375         16         131  7.250000          4        3         0   \n",
       "\n",
       "   upper  \n",
       "0      1  \n",
       "1      1  \n",
       "\n",
       "[2 rows x 24 columns]"
      ]
     },
     "execution_count": 333,
     "metadata": {},
     "output_type": "execute_result"
    }
   ],
   "source": [
    "def remove_punct(text):\n",
    "    text  = \"\".join([char for char in text if char not in string.punctuation])\n",
    "    text = re.sub('[0-9]+', '', text)\n",
    "    return text\n",
    "\n",
    "dataset['Tweet'] = dataset['Tweet'].apply(lambda x: remove_punct(x))\n",
    "dataset.head(2)"
   ]
  },
  {
   "cell_type": "code",
   "execution_count": 74,
   "metadata": {},
   "outputs": [
    {
     "data": {
      "text/html": [
       "<div>\n",
       "<style scoped>\n",
       "    .dataframe tbody tr th:only-of-type {\n",
       "        vertical-align: middle;\n",
       "    }\n",
       "\n",
       "    .dataframe tbody tr th {\n",
       "        vertical-align: top;\n",
       "    }\n",
       "\n",
       "    .dataframe thead th {\n",
       "        text-align: right;\n",
       "    }\n",
       "</style>\n",
       "<table border=\"1\" class=\"dataframe\">\n",
       "  <thead>\n",
       "    <tr style=\"text-align: right;\">\n",
       "      <th></th>\n",
       "      <th>Datetime Created</th>\n",
       "      <th>Tweet</th>\n",
       "      <th>Language</th>\n",
       "      <th>Location</th>\n",
       "      <th>UserAccount Verified</th>\n",
       "      <th>Tweet Source</th>\n",
       "      <th>Retweet_count</th>\n",
       "      <th>Favourite_count</th>\n",
       "      <th>Year</th>\n",
       "      <th>Week of the Year</th>\n",
       "      <th>...</th>\n",
       "      <th>Name of the Day</th>\n",
       "      <th>Hour</th>\n",
       "      <th>Minute</th>\n",
       "      <th>word_count</th>\n",
       "      <th>char_count</th>\n",
       "      <th>avg_word</th>\n",
       "      <th>stopwords</th>\n",
       "      <th>hastags</th>\n",
       "      <th>numerics</th>\n",
       "      <th>upper</th>\n",
       "    </tr>\n",
       "  </thead>\n",
       "  <tbody>\n",
       "    <tr>\n",
       "      <th>0</th>\n",
       "      <td>2019-10-15 06:24:10</td>\n",
       "      <td>[]</td>\n",
       "      <td>en</td>\n",
       "      <td>TinkerBellLand</td>\n",
       "      <td>False</td>\n",
       "      <td>Twitter Web App</td>\n",
       "      <td>119</td>\n",
       "      <td>0</td>\n",
       "      <td>2019</td>\n",
       "      <td>42</td>\n",
       "      <td>...</td>\n",
       "      <td>Tuesday</td>\n",
       "      <td>6</td>\n",
       "      <td>24</td>\n",
       "      <td>8</td>\n",
       "      <td>74</td>\n",
       "      <td>7.222222</td>\n",
       "      <td>4</td>\n",
       "      <td>0</td>\n",
       "      <td>0</td>\n",
       "      <td>1</td>\n",
       "    </tr>\n",
       "    <tr>\n",
       "      <th>1</th>\n",
       "      <td>2019-10-15 04:08:22</td>\n",
       "      <td>[uk, renewables, generate, electricity, fossil...</td>\n",
       "      <td>en</td>\n",
       "      <td>Nairobi, Kenya</td>\n",
       "      <td>False</td>\n",
       "      <td>Twitter for Android</td>\n",
       "      <td>0</td>\n",
       "      <td>1</td>\n",
       "      <td>2019</td>\n",
       "      <td>42</td>\n",
       "      <td>...</td>\n",
       "      <td>Tuesday</td>\n",
       "      <td>4</td>\n",
       "      <td>8</td>\n",
       "      <td>16</td>\n",
       "      <td>123</td>\n",
       "      <td>6.750000</td>\n",
       "      <td>4</td>\n",
       "      <td>0</td>\n",
       "      <td>0</td>\n",
       "      <td>1</td>\n",
       "    </tr>\n",
       "  </tbody>\n",
       "</table>\n",
       "<p>2 rows × 23 columns</p>\n",
       "</div>"
      ],
      "text/plain": [
       "     Datetime Created                                              Tweet  \\\n",
       "0 2019-10-15 06:24:10                                                 []   \n",
       "1 2019-10-15 04:08:22  [uk, renewables, generate, electricity, fossil...   \n",
       "\n",
       "  Language        Location  UserAccount Verified         Tweet Source  \\\n",
       "0       en  TinkerBellLand                 False      Twitter Web App   \n",
       "1       en  Nairobi, Kenya                 False  Twitter for Android   \n",
       "\n",
       "   Retweet_count  Favourite_count  Year  Week of the Year  ...  \\\n",
       "0            119                0  2019                42  ...   \n",
       "1              0                1  2019                42  ...   \n",
       "\n",
       "   Name of the Day Hour  Minute word_count  char_count  avg_word  stopwords  \\\n",
       "0          Tuesday    6      24          8          74  7.222222          4   \n",
       "1          Tuesday    4       8         16         123  6.750000          4   \n",
       "\n",
       "   hastags  numerics  upper  \n",
       "0        0         0      1  \n",
       "1        0         0      1  \n",
       "\n",
       "[2 rows x 23 columns]"
      ]
     },
     "execution_count": 74,
     "metadata": {},
     "output_type": "execute_result"
    }
   ],
   "source": [
    "def tokenization(text):\n",
    "    text = re.split('\\W+', text)\n",
    "    return text\n",
    "\n",
    "dataset['Tweet'] = dataset['Tweet'].apply(lambda x: tokenization(x.lower()))\n",
    "dataset.head(2)"
   ]
  },
  {
   "cell_type": "code",
   "execution_count": 336,
   "metadata": {},
   "outputs": [
    {
     "data": {
      "text/html": [
       "<div>\n",
       "<style scoped>\n",
       "    .dataframe tbody tr th:only-of-type {\n",
       "        vertical-align: middle;\n",
       "    }\n",
       "\n",
       "    .dataframe tbody tr th {\n",
       "        vertical-align: top;\n",
       "    }\n",
       "\n",
       "    .dataframe thead th {\n",
       "        text-align: right;\n",
       "    }\n",
       "</style>\n",
       "<table border=\"1\" class=\"dataframe\">\n",
       "  <thead>\n",
       "    <tr style=\"text-align: right;\">\n",
       "      <th></th>\n",
       "      <th>Datetime Created</th>\n",
       "      <th>Tweet</th>\n",
       "      <th>Language</th>\n",
       "      <th>Location</th>\n",
       "      <th>UserAccount Verified</th>\n",
       "      <th>Tweet Source</th>\n",
       "      <th>Retweet_count</th>\n",
       "      <th>Favourite_count</th>\n",
       "      <th>Year</th>\n",
       "      <th>Week of the Year</th>\n",
       "      <th>...</th>\n",
       "      <th>Hour</th>\n",
       "      <th>Minute</th>\n",
       "      <th>Sentiment</th>\n",
       "      <th>word_count</th>\n",
       "      <th>char_count</th>\n",
       "      <th>avg_word</th>\n",
       "      <th>stopwords</th>\n",
       "      <th>hastags</th>\n",
       "      <th>numerics</th>\n",
       "      <th>upper</th>\n",
       "    </tr>\n",
       "  </thead>\n",
       "  <tbody>\n",
       "    <tr>\n",
       "      <th>0</th>\n",
       "      <td>2019-10-15 06:24:10</td>\n",
       "      <td>[rt, jerotichseii, switch, switchoffkplc, http...</td>\n",
       "      <td>en</td>\n",
       "      <td>TinkerBellLand</td>\n",
       "      <td>False</td>\n",
       "      <td>Twitter Web App</td>\n",
       "      <td>119</td>\n",
       "      <td>0</td>\n",
       "      <td>2019</td>\n",
       "      <td>42</td>\n",
       "      <td>...</td>\n",
       "      <td>6</td>\n",
       "      <td>24</td>\n",
       "      <td>0.000</td>\n",
       "      <td>8</td>\n",
       "      <td>83</td>\n",
       "      <td>8.222222</td>\n",
       "      <td>2</td>\n",
       "      <td>1</td>\n",
       "      <td>0</td>\n",
       "      <td>1</td>\n",
       "    </tr>\n",
       "    <tr>\n",
       "      <th>1</th>\n",
       "      <td>2019-10-15 04:08:22</td>\n",
       "      <td>[uk, renew, gener, electr, fossil, fuel, first...</td>\n",
       "      <td>en</td>\n",
       "      <td>NaN</td>\n",
       "      <td>False</td>\n",
       "      <td>Twitter for Android</td>\n",
       "      <td>0</td>\n",
       "      <td>1</td>\n",
       "      <td>2019</td>\n",
       "      <td>42</td>\n",
       "      <td>...</td>\n",
       "      <td>4</td>\n",
       "      <td>8</td>\n",
       "      <td>0.375</td>\n",
       "      <td>16</td>\n",
       "      <td>131</td>\n",
       "      <td>7.250000</td>\n",
       "      <td>4</td>\n",
       "      <td>3</td>\n",
       "      <td>0</td>\n",
       "      <td>1</td>\n",
       "    </tr>\n",
       "    <tr>\n",
       "      <th>2</th>\n",
       "      <td>2019-10-14 18:00:17</td>\n",
       "      <td>[jameni, kenyapow, switchoffkplc, httpstcocsji...</td>\n",
       "      <td>in</td>\n",
       "      <td>Nairobi</td>\n",
       "      <td>False</td>\n",
       "      <td>Twitter for Android</td>\n",
       "      <td>0</td>\n",
       "      <td>0</td>\n",
       "      <td>2019</td>\n",
       "      <td>42</td>\n",
       "      <td>...</td>\n",
       "      <td>18</td>\n",
       "      <td>0</td>\n",
       "      <td>0.000</td>\n",
       "      <td>4</td>\n",
       "      <td>57</td>\n",
       "      <td>13.500000</td>\n",
       "      <td>0</td>\n",
       "      <td>1</td>\n",
       "      <td>0</td>\n",
       "      <td>0</td>\n",
       "    </tr>\n",
       "    <tr>\n",
       "      <th>3</th>\n",
       "      <td>2019-10-13 16:29:21</td>\n",
       "      <td>[kenyapowercar, attend, still, dark, day, coun...</td>\n",
       "      <td>en</td>\n",
       "      <td>Nairobi, Kenya</td>\n",
       "      <td>False</td>\n",
       "      <td>Twitter for Android</td>\n",
       "      <td>0</td>\n",
       "      <td>0</td>\n",
       "      <td>2019</td>\n",
       "      <td>41</td>\n",
       "      <td>...</td>\n",
       "      <td>16</td>\n",
       "      <td>29</td>\n",
       "      <td>-0.150</td>\n",
       "      <td>21</td>\n",
       "      <td>138</td>\n",
       "      <td>5.619048</td>\n",
       "      <td>9</td>\n",
       "      <td>0</td>\n",
       "      <td>0</td>\n",
       "      <td>0</td>\n",
       "    </tr>\n",
       "    <tr>\n",
       "      <th>4</th>\n",
       "      <td>2019-10-13 15:35:09</td>\n",
       "      <td>[osoretunu, kenyapowercar, kplc, must, switch,...</td>\n",
       "      <td>en</td>\n",
       "      <td>NaN</td>\n",
       "      <td>False</td>\n",
       "      <td>Twitter for Android</td>\n",
       "      <td>0</td>\n",
       "      <td>1</td>\n",
       "      <td>2019</td>\n",
       "      <td>41</td>\n",
       "      <td>...</td>\n",
       "      <td>15</td>\n",
       "      <td>35</td>\n",
       "      <td>0.000</td>\n",
       "      <td>7</td>\n",
       "      <td>71</td>\n",
       "      <td>7.875000</td>\n",
       "      <td>1</td>\n",
       "      <td>1</td>\n",
       "      <td>0</td>\n",
       "      <td>1</td>\n",
       "    </tr>\n",
       "  </tbody>\n",
       "</table>\n",
       "<p>5 rows × 24 columns</p>\n",
       "</div>"
      ],
      "text/plain": [
       "     Datetime Created                                              Tweet  \\\n",
       "0 2019-10-15 06:24:10  [rt, jerotichseii, switch, switchoffkplc, http...   \n",
       "1 2019-10-15 04:08:22  [uk, renew, gener, electr, fossil, fuel, first...   \n",
       "2 2019-10-14 18:00:17  [jameni, kenyapow, switchoffkplc, httpstcocsji...   \n",
       "3 2019-10-13 16:29:21  [kenyapowercar, attend, still, dark, day, coun...   \n",
       "4 2019-10-13 15:35:09  [osoretunu, kenyapowercar, kplc, must, switch,...   \n",
       "\n",
       "  Language        Location  UserAccount Verified         Tweet Source  \\\n",
       "0       en  TinkerBellLand                 False      Twitter Web App   \n",
       "1       en             NaN                 False  Twitter for Android   \n",
       "2       in         Nairobi                 False  Twitter for Android   \n",
       "3       en  Nairobi, Kenya                 False  Twitter for Android   \n",
       "4       en             NaN                 False  Twitter for Android   \n",
       "\n",
       "   Retweet_count  Favourite_count  Year  Week of the Year  ...  Hour Minute  \\\n",
       "0            119                0  2019                42  ...     6     24   \n",
       "1              0                1  2019                42  ...     4      8   \n",
       "2              0                0  2019                42  ...    18      0   \n",
       "3              0                0  2019                41  ...    16     29   \n",
       "4              0                1  2019                41  ...    15     35   \n",
       "\n",
       "   Sentiment word_count  char_count   avg_word  stopwords  hastags  numerics  \\\n",
       "0      0.000          8          83   8.222222          2        1         0   \n",
       "1      0.375         16         131   7.250000          4        3         0   \n",
       "2      0.000          4          57  13.500000          0        1         0   \n",
       "3     -0.150         21         138   5.619048          9        0         0   \n",
       "4      0.000          7          71   7.875000          1        1         0   \n",
       "\n",
       "   upper  \n",
       "0      1  \n",
       "1      1  \n",
       "2      0  \n",
       "3      0  \n",
       "4      1  \n",
       "\n",
       "[5 rows x 24 columns]"
      ]
     },
     "execution_count": 336,
     "metadata": {},
     "output_type": "execute_result"
    }
   ],
   "source": [
    "ps = nltk.PorterStemmer()\n",
    "\n",
    "def stemming(text):\n",
    "    text = [ps.stem(word) for word in text]\n",
    "    return text\n",
    "\n",
    "dataset['Tweet'] = dataset['Tweet'].apply(lambda x: stemming(x))\n",
    "dataset.head()"
   ]
  },
  {
   "cell_type": "code",
   "execution_count": null,
   "metadata": {},
   "outputs": [],
   "source": []
  },
  {
   "cell_type": "code",
   "execution_count": 30,
   "metadata": {},
   "outputs": [],
   "source": [
    "def clean_text(text):\n",
    "    text_lc = \"\".join([word.lower() for word in text if word not in string.punctuation]) # remove puntuation\n",
    "    text_rc = re.sub('[0-9]+', '', text_lc)\n",
    "    tokens = re.split('\\W+', text_rc)    # tokenization\n",
    "    text = [ps.stem(word) for word in tokens if word not in stopword]  # remove stopwords and stemming\n",
    "    return text"
   ]
  },
  {
   "cell_type": "code",
   "execution_count": null,
   "metadata": {},
   "outputs": [],
   "source": []
  },
  {
   "cell_type": "code",
   "execution_count": 227,
   "metadata": {},
   "outputs": [],
   "source": [
    "#User Defined Function to clean unwanted text patterns from all tweets\n",
    "# input - text to clean,pattern to replace\n",
    "def cleantext(inputword,pattern):\n",
    "    r = re.findall(pattern=pattern,string=inputword)\n",
    "    for i in r:\n",
    "        inputword = re.sub(pattern=i,repl='',string=inputword)\n",
    "    return inputword"
   ]
  },
  {
   "cell_type": "code",
   "execution_count": 228,
   "metadata": {},
   "outputs": [
    {
     "data": {
      "text/html": [
       "<div>\n",
       "<style scoped>\n",
       "    .dataframe tbody tr th:only-of-type {\n",
       "        vertical-align: middle;\n",
       "    }\n",
       "\n",
       "    .dataframe tbody tr th {\n",
       "        vertical-align: top;\n",
       "    }\n",
       "\n",
       "    .dataframe thead th {\n",
       "        text-align: right;\n",
       "    }\n",
       "</style>\n",
       "<table border=\"1\" class=\"dataframe\">\n",
       "  <thead>\n",
       "    <tr style=\"text-align: right;\">\n",
       "      <th></th>\n",
       "      <th>Datetime Created</th>\n",
       "      <th>Tweet</th>\n",
       "      <th>Language</th>\n",
       "      <th>Location</th>\n",
       "      <th>UserAccount Verified</th>\n",
       "      <th>Tweet Source</th>\n",
       "      <th>Retweet_count</th>\n",
       "      <th>Favourite_count</th>\n",
       "      <th>Year</th>\n",
       "      <th>Week of the Year</th>\n",
       "      <th>...</th>\n",
       "      <th>Name of the Day</th>\n",
       "      <th>Hour</th>\n",
       "      <th>Minute</th>\n",
       "      <th>word_count</th>\n",
       "      <th>char_count</th>\n",
       "      <th>avg_word</th>\n",
       "      <th>stopwords</th>\n",
       "      <th>hastags</th>\n",
       "      <th>numerics</th>\n",
       "      <th>upper</th>\n",
       "    </tr>\n",
       "  </thead>\n",
       "  <tbody>\n",
       "    <tr>\n",
       "      <th>0</th>\n",
       "      <td>2019-10-14 18:00:17</td>\n",
       "      <td>jameni kenyapower switchoffkplc httpstcoc3sjiv...</td>\n",
       "      <td>in</td>\n",
       "      <td>Nairobi</td>\n",
       "      <td>False</td>\n",
       "      <td>Twitter for Android</td>\n",
       "      <td>0</td>\n",
       "      <td>0</td>\n",
       "      <td>2019</td>\n",
       "      <td>42</td>\n",
       "      <td>...</td>\n",
       "      <td>Monday</td>\n",
       "      <td>18</td>\n",
       "      <td>0</td>\n",
       "      <td>4</td>\n",
       "      <td>57</td>\n",
       "      <td>13.500000</td>\n",
       "      <td>0</td>\n",
       "      <td>1</td>\n",
       "      <td>0</td>\n",
       "      <td>0</td>\n",
       "    </tr>\n",
       "    <tr>\n",
       "      <th>1</th>\n",
       "      <td>2019-10-13 16:29:21</td>\n",
       "      <td>kenyapower_care attended still dark 7days coun...</td>\n",
       "      <td>en</td>\n",
       "      <td>Nairobi, Kenya</td>\n",
       "      <td>False</td>\n",
       "      <td>Twitter for Android</td>\n",
       "      <td>0</td>\n",
       "      <td>0</td>\n",
       "      <td>2019</td>\n",
       "      <td>41</td>\n",
       "      <td>...</td>\n",
       "      <td>Sunday</td>\n",
       "      <td>16</td>\n",
       "      <td>29</td>\n",
       "      <td>21</td>\n",
       "      <td>139</td>\n",
       "      <td>5.666667</td>\n",
       "      <td>8</td>\n",
       "      <td>0</td>\n",
       "      <td>0</td>\n",
       "      <td>0</td>\n",
       "    </tr>\n",
       "    <tr>\n",
       "      <th>2</th>\n",
       "      <td>2019-10-13 15:35:09</td>\n",
       "      <td>osore_tunu kenyapower_care kplc must switched ...</td>\n",
       "      <td>en</td>\n",
       "      <td>NaN</td>\n",
       "      <td>False</td>\n",
       "      <td>Twitter for Android</td>\n",
       "      <td>0</td>\n",
       "      <td>1</td>\n",
       "      <td>2019</td>\n",
       "      <td>41</td>\n",
       "      <td>...</td>\n",
       "      <td>Sunday</td>\n",
       "      <td>15</td>\n",
       "      <td>35</td>\n",
       "      <td>7</td>\n",
       "      <td>71</td>\n",
       "      <td>7.875000</td>\n",
       "      <td>1</td>\n",
       "      <td>1</td>\n",
       "      <td>0</td>\n",
       "      <td>1</td>\n",
       "    </tr>\n",
       "  </tbody>\n",
       "</table>\n",
       "<p>3 rows × 23 columns</p>\n",
       "</div>"
      ],
      "text/plain": [
       "     Datetime Created                                              Tweet  \\\n",
       "0 2019-10-14 18:00:17  jameni kenyapower switchoffkplc httpstcoc3sjiv...   \n",
       "1 2019-10-13 16:29:21  kenyapower_care attended still dark 7days coun...   \n",
       "2 2019-10-13 15:35:09  osore_tunu kenyapower_care kplc must switched ...   \n",
       "\n",
       "  Language        Location  UserAccount Verified         Tweet Source  \\\n",
       "0       in         Nairobi                 False  Twitter for Android   \n",
       "1       en  Nairobi, Kenya                 False  Twitter for Android   \n",
       "2       en             NaN                 False  Twitter for Android   \n",
       "\n",
       "   Retweet_count  Favourite_count  Year  Week of the Year  ...  \\\n",
       "0              0                0  2019                42  ...   \n",
       "1              0                0  2019                41  ...   \n",
       "2              0                1  2019                41  ...   \n",
       "\n",
       "   Name of the Day Hour  Minute word_count  char_count   avg_word  stopwords  \\\n",
       "0           Monday   18       0          4          57  13.500000          0   \n",
       "1           Sunday   16      29         21         139   5.666667          8   \n",
       "2           Sunday   15      35          7          71   7.875000          1   \n",
       "\n",
       "   hastags  numerics  upper  \n",
       "0        1         0      0  \n",
       "1        0         0      0  \n",
       "2        1         0      1  \n",
       "\n",
       "[3 rows x 23 columns]"
      ]
     },
     "execution_count": 228,
     "metadata": {},
     "output_type": "execute_result"
    }
   ],
   "source": [
    "dataset['Tweet'] = np.vectorize(cleantext)(dataset['Tweet'],'@[\\w]*')\n",
    "dataset.head(3)"
   ]
  },
  {
   "cell_type": "code",
   "execution_count": 337,
   "metadata": {},
   "outputs": [
    {
     "data": {
      "text/plain": [
       "0    [rt, jerotichseii, switch, switchoffkplc, http...\n",
       "1    [uk, renew, gener, electr, fossil, fuel, first...\n",
       "2    [jameni, kenyapow, switchoffkplc, httpstcocsji...\n",
       "Name: Tweet, dtype: object"
      ]
     },
     "execution_count": 337,
     "metadata": {},
     "output_type": "execute_result"
    }
   ],
   "source": [
    "dataset['Tweet'].head(3)"
   ]
  },
  {
   "cell_type": "markdown",
   "metadata": {},
   "source": [
    "## 4. Extracting Features from Cleaned Tweets\n",
    "\n",
    "To analyze a preprocessed data, it needs to be converted into features. Depending upon the usage, text features can be constructed using assorted techniques – Bag-of-Words, TF-IDF, and Word Embeddings. In this article, we will be covering only Bag-of-Words and TF-IDF."
   ]
  },
  {
   "cell_type": "markdown",
   "metadata": {},
   "source": [
    "### Bag-of-Words Features\n",
    "\n",
    "Bag-of-Words is a method to represent text into numerical features. Consider a corpus (a collection of texts) called C of D documents {d1,d2…..dD} and N unique tokens extracted out of the corpus C. The N tokens (words) will form a list, and the size of the bag-of-words matrix M will be given by D X N. Each row in the matrix M contains the frequency of tokens in document D(i)."
   ]
  },
  {
   "cell_type": "code",
   "execution_count": 101,
   "metadata": {},
   "outputs": [],
   "source": [
    "from sklearn.feature_extraction.text import CountVectorizer\n",
    "bow_vectorizer = CountVectorizer(max_df=0.90, min_df=2, max_features=1000, stop_words='english')\n",
    "# bag-of-words feature matrix\n",
    "bow = bow_vectorizer.fit_transform(dataset['Tweet'])"
   ]
  },
  {
   "cell_type": "markdown",
   "metadata": {},
   "source": [
    "### TF-IDF Features\n",
    "\n",
    "This is another method which is based on the frequency method but it is different to the bag-of-words approach in the sense that it takes into account, not just the occurrence of a word in a single document (or tweet) but in the entire corpus.\n",
    "\n",
    "TF-IDF works by penalizing the common words by assigning them lower weights while giving importance to words which are rare in the entire corpus but appear in good numbers in few documents."
   ]
  },
  {
   "cell_type": "code",
   "execution_count": 102,
   "metadata": {},
   "outputs": [],
   "source": [
    "from sklearn.feature_extraction.text import TfidfVectorizer\n",
    "tfidf_vectorizer = TfidfVectorizer(max_df=0.90, min_df=2, max_features=1000, stop_words='english')\n",
    "# TF-IDF feature matrix\n",
    "tfidf = tfidf_vectorizer.fit_transform(dataset['Tweet'])"
   ]
  },
  {
   "cell_type": "markdown",
   "metadata": {},
   "source": [
    "#### Vectorization of the Tweets"
   ]
  },
  {
   "cell_type": "code",
   "execution_count": 106,
   "metadata": {},
   "outputs": [],
   "source": [
    "# Vectorization\n",
    "# Importing Required Packages\n",
    "\n",
    "from sklearn.feature_extraction.text import TfidfVectorizer,CountVectorizer\n",
    "import gensim"
   ]
  },
  {
   "cell_type": "code",
   "execution_count": 259,
   "metadata": {},
   "outputs": [],
   "source": [
    "# Applying Bag of Words Vectorization to the Tweets\n",
    "\n",
    "bow_vectorizer = CountVectorizer(stop_words= 'english')\n",
    "bow = bow_vectorizer.fit_transform(dataset['Tweet'])"
   ]
  },
  {
   "cell_type": "code",
   "execution_count": 260,
   "metadata": {},
   "outputs": [],
   "source": [
    "#Applying TF-IDF Vectorization to the Tweets\n",
    "\n",
    "tfidf_vectorizer = TfidfVectorizer(stop_words= 'english')\n",
    "tfidf = tfidf_vectorizer.fit_transform(dataset['Tweet'])"
   ]
  },
  {
   "cell_type": "markdown",
   "metadata": {},
   "source": [
    "## Saving the Cleaned Dataset for Visualization and Modelling"
   ]
  },
  {
   "cell_type": "code",
   "execution_count": 282,
   "metadata": {},
   "outputs": [
    {
     "data": {
      "text/plain": [
       "Index(['Datetime Created', 'Tweet', 'Language', 'Location',\n",
       "       'UserAccount Verified', 'Tweet Source', 'Retweet_count',\n",
       "       'Favourite_count', 'Year', 'Week of the Year', 'Day of the Year',\n",
       "       'Month_name', 'Day of the Week', 'Name of the Day', 'Hour', 'Minute'],\n",
       "      dtype='object')"
      ]
     },
     "execution_count": 282,
     "metadata": {},
     "output_type": "execute_result"
    }
   ],
   "source": [
    "# Save the Cleaned Twitter Dataset for Further Visualizations and Modelling\n",
    "\n",
    "dataset.to_csv(\"CleanDatasetFile.csv\")\n",
    "dataset.columns"
   ]
  },
  {
   "cell_type": "code",
   "execution_count": null,
   "metadata": {},
   "outputs": [],
   "source": []
  },
  {
   "cell_type": "markdown",
   "metadata": {},
   "source": [
    "## 5. Model Building: Sentiment Analysis\n",
    "\n",
    "We are now done with the Pre-Modelling Stages  required to get the data in the proper form and shape.\n",
    "We will proceed to build a predictive models on the dataset using thr Two Feature Set: Bag-of-Words and TF-IDF.\n",
    "\n",
    "\n",
    "We will use logistic regression to build the models. It predicts the probability of occurrence of an event by fitting data to a logit function."
   ]
  },
  {
   "cell_type": "code",
   "execution_count": null,
   "metadata": {},
   "outputs": [],
   "source": []
  },
  {
   "cell_type": "code",
   "execution_count": null,
   "metadata": {},
   "outputs": [],
   "source": []
  },
  {
   "cell_type": "code",
   "execution_count": null,
   "metadata": {},
   "outputs": [],
   "source": []
  }
 ],
 "metadata": {
  "kernelspec": {
   "display_name": "conda_python3",
   "language": "python",
   "name": "conda_python3"
  },
  "language_info": {
   "codemirror_mode": {
    "name": "ipython",
    "version": 3
   },
   "file_extension": ".py",
   "mimetype": "text/x-python",
   "name": "python",
   "nbconvert_exporter": "python",
   "pygments_lexer": "ipython3",
   "version": "3.6.5"
  }
 },
 "nbformat": 4,
 "nbformat_minor": 4
}
